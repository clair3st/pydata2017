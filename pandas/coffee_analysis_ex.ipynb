{
 "cells": [
  {
   "cell_type": "markdown",
   "metadata": {
    "slideshow": {
     "slide_type": "slide"
    }
   },
   "source": [
    "# Introduction to data analytics with pandas"
   ]
  },
  {
   "cell_type": "markdown",
   "metadata": {},
   "source": [
    "### Quentin Caudron\n",
    "\n",
    "#### PyData Seattle, July 2017"
   ]
  },
  {
   "cell_type": "markdown",
   "metadata": {
    "slideshow": {
     "slide_type": "skip"
    }
   },
   "source": [
    "You can ignore this next cell, it's only for presentations !"
   ]
  },
  {
   "cell_type": "code",
   "execution_count": null,
   "metadata": {
    "collapsed": true,
    "slideshow": {
     "slide_type": "skip"
    }
   },
   "outputs": [],
   "source": [
    "%%HTML\n",
    "<style>\n",
    "\n",
    ".rendered_html {\n",
    "  font-size: 0.7em;\n",
    "}\n",
    "\n",
    ".CodeMirror-scroll {\n",
    "    font-size: 1.2em;\n",
    "}\n",
    "\n",
    ".rendered_html table, .rendered_html th, .rendered_html tr, .rendered_html td, .rendered_html h2, .rendered_html h4 {\n",
    "     font-size: 100%;\n",
    "}\n",
    "\n",
    "</style>"
   ]
  },
  {
   "cell_type": "markdown",
   "metadata": {
    "slideshow": {
     "slide_type": "subslide"
    }
   },
   "source": [
    "## Systems check\n",
    "\n",
    "Do you have a working Python installation, with the `pandas` package ?"
   ]
  },
  {
   "cell_type": "code",
   "execution_count": null,
   "metadata": {
    "collapsed": true
   },
   "outputs": [],
   "source": [
    "import pandas as pd"
   ]
  },
  {
   "cell_type": "markdown",
   "metadata": {
    "slideshow": {
     "slide_type": "skip"
    }
   },
   "source": [
    "**Note :** This cell should run without raising a traceback. Assuming it runs, you can also try printing the value of `pd.__version__` to see what version of `pandas` you have installed."
   ]
  },
  {
   "cell_type": "markdown",
   "metadata": {
    "slideshow": {
     "slide_type": "slide"
    }
   },
   "source": [
    "## A little about me\n",
    "\n",
    "- Lapsed computational physicist\n",
    "- PhD computational neuroscience, postdoc statistical epidemiology\n",
    "- Data Scientist at CBRE - `www.cbredev.com`\n",
    "- ATOM in Seattle"
   ]
  },
  {
   "cell_type": "markdown",
   "metadata": {
    "slideshow": {
     "slide_type": "subslide"
    }
   },
   "source": [
    "## A little about the hero of this story\n",
    "\n",
    "<center><img src=\"images/coffee_machine.jpg\" width=\"400px\" /></center>"
   ]
  },
  {
   "cell_type": "markdown",
   "metadata": {
    "slideshow": {
     "slide_type": "skip"
    }
   },
   "source": [
    "We'll be analysing a real-world dataset together. It's about my favourite thing in the world : **coffee**. This dataset was collected at the Mathematics Institute at the University of Warwick. It's a time-series dataset, describing the **total number of coffees made by our espresso machine** by a certain date."
   ]
  },
  {
   "cell_type": "markdown",
   "metadata": {
    "slideshow": {
     "slide_type": "subslide"
    }
   },
   "source": [
    "## A little about this workshop\n",
    "\n",
    "We'll be running through an analysis of this dataset as a way to expose you to the `pandas` API. The aim is to develop a little familiarity with how to work with `pandas`."
   ]
  },
  {
   "cell_type": "markdown",
   "metadata": {
    "slideshow": {
     "slide_type": "fragment"
    }
   },
   "source": [
    "Slides are available at https://github.com/QCaudron/pydata_pandas. One notebook contains solutions; **beware of spoilers**.\n",
    "\n",
    "The notebooks contain **notes** about what we're doing that I'll skip during this workshop, but try to explain on the way."
   ]
  },
  {
   "cell_type": "markdown",
   "metadata": {
    "slideshow": {
     "slide_type": "fragment"
    }
   },
   "source": [
    "The `pandas` API is **enormous**. The [documentation](http://pandas.pydata.org/pandas-docs/stable/) is excellent, don't hesitate to look things up."
   ]
  },
  {
   "cell_type": "markdown",
   "metadata": {
    "slideshow": {
     "slide_type": "subslide"
    }
   },
   "source": [
    "## Key questions\n",
    "\n",
    "1. Who are the main contributors to this dataset, and when are contributions generally made ?\n",
    "2. What are the department's weekday coffee habits ?\n",
    "3. How much coffee are people drinking ?"
   ]
  },
  {
   "cell_type": "markdown",
   "metadata": {
    "slideshow": {
     "slide_type": "slide"
    }
   },
   "source": [
    "## Let's begin"
   ]
  },
  {
   "cell_type": "code",
   "execution_count": 3,
   "metadata": {
    "collapsed": true
   },
   "outputs": [],
   "source": [
    "import pandas as pd\n",
    "%matplotlib inline"
   ]
  },
  {
   "cell_type": "markdown",
   "metadata": {
    "slideshow": {
     "slide_type": "skip"
    }
   },
   "source": [
    "**Note :** The second line here tells `matplotlib` to plot directly under the cell where any plotting code is called. `pandas` uses `matplotlib` to generate graphs, and without this, the graphs would appear outside the Jupyter notebook when you called `plt.show()` - but we just want them to appear without having to do this.\n",
    "\n",
    "http://ipython.readthedocs.io/en/stable/interactive/plotting.html#id1"
   ]
  },
  {
   "cell_type": "markdown",
   "metadata": {
    "slideshow": {
     "slide_type": "subslide"
    }
   },
   "source": [
    "## Importing the data"
   ]
  },
  {
   "cell_type": "markdown",
   "metadata": {},
   "source": [
    "Let's import the coffee data from CSV."
   ]
  },
  {
   "cell_type": "code",
   "execution_count": 4,
   "metadata": {
    "collapsed": false
   },
   "outputs": [],
   "source": [
    "# Read data from data/coffees.csv\n",
    "data = pd.read_csv(\"pydata_pandas/data/coffees.csv\")"
   ]
  },
  {
   "cell_type": "markdown",
   "metadata": {
    "slideshow": {
     "slide_type": "skip"
    }
   },
   "source": [
    "**Note :** `pandas` can read from many data formats : CSV, JSON, Excel, HDF5, SQL, and more.\n",
    "\n",
    "http://pandas.pydata.org/pandas-docs/version/0.20/io.html"
   ]
  },
  {
   "cell_type": "markdown",
   "metadata": {
    "slideshow": {
     "slide_type": "subslide"
    }
   },
   "source": [
    "#### What does this data look like ?"
   ]
  },
  {
   "cell_type": "code",
   "execution_count": 5,
   "metadata": {
    "collapsed": false
   },
   "outputs": [
    {
     "data": {
      "text/html": [
       "<div>\n",
       "<table border=\"1\" class=\"dataframe\">\n",
       "  <thead>\n",
       "    <tr style=\"text-align: right;\">\n",
       "      <th></th>\n",
       "      <th>timestamp</th>\n",
       "      <th>coffees</th>\n",
       "      <th>contributor</th>\n",
       "    </tr>\n",
       "  </thead>\n",
       "  <tbody>\n",
       "    <tr>\n",
       "      <th>0</th>\n",
       "      <td>2011-10-03 08:22:00</td>\n",
       "      <td>397.0</td>\n",
       "      <td>Quentin</td>\n",
       "    </tr>\n",
       "    <tr>\n",
       "      <th>1</th>\n",
       "      <td>2011-10-04 11:48:00</td>\n",
       "      <td>410.0</td>\n",
       "      <td>Quentin</td>\n",
       "    </tr>\n",
       "    <tr>\n",
       "      <th>2</th>\n",
       "      <td>2011-10-05 07:02:00</td>\n",
       "      <td>testing</td>\n",
       "      <td>Anthony</td>\n",
       "    </tr>\n",
       "    <tr>\n",
       "      <th>3</th>\n",
       "      <td>2011-10-05 08:25:00</td>\n",
       "      <td>NaN</td>\n",
       "      <td>Quentin</td>\n",
       "    </tr>\n",
       "    <tr>\n",
       "      <th>4</th>\n",
       "      <td>2011-10-05 10:47:00</td>\n",
       "      <td>464.0</td>\n",
       "      <td>Quentin</td>\n",
       "    </tr>\n",
       "    <tr>\n",
       "      <th>5</th>\n",
       "      <td>2011-10-05 13:15:00</td>\n",
       "      <td>481.0</td>\n",
       "      <td>Quentin</td>\n",
       "    </tr>\n",
       "    <tr>\n",
       "      <th>6</th>\n",
       "      <td>2011-10-06 07:21:00</td>\n",
       "      <td>503.0</td>\n",
       "      <td>Anthony</td>\n",
       "    </tr>\n",
       "    <tr>\n",
       "      <th>7</th>\n",
       "      <td>2011-10-06 10:04:00</td>\n",
       "      <td>513.0</td>\n",
       "      <td>Quentin</td>\n",
       "    </tr>\n",
       "    <tr>\n",
       "      <th>8</th>\n",
       "      <td>2011-10-06 12:14:00</td>\n",
       "      <td>539.0</td>\n",
       "      <td>Mike</td>\n",
       "    </tr>\n",
       "    <tr>\n",
       "      <th>9</th>\n",
       "      <td>2011-10-06 12:49:00</td>\n",
       "      <td>540.0</td>\n",
       "      <td>Quentin</td>\n",
       "    </tr>\n",
       "    <tr>\n",
       "      <th>10</th>\n",
       "      <td>2011-10-06 14:52:00</td>\n",
       "      <td>563.0</td>\n",
       "      <td>Ben</td>\n",
       "    </tr>\n",
       "    <tr>\n",
       "      <th>11</th>\n",
       "      <td>2011-10-07 07:34:00</td>\n",
       "      <td>581.0</td>\n",
       "      <td>Anthony</td>\n",
       "    </tr>\n",
       "    <tr>\n",
       "      <th>12</th>\n",
       "      <td>2011-10-07 08:37:00</td>\n",
       "      <td>587.0</td>\n",
       "      <td>Quentin</td>\n",
       "    </tr>\n",
       "    <tr>\n",
       "      <th>13</th>\n",
       "      <td>2011-10-07 11:09:00</td>\n",
       "      <td>605.0</td>\n",
       "      <td>Quentin</td>\n",
       "    </tr>\n",
       "    <tr>\n",
       "      <th>14</th>\n",
       "      <td>2011-10-07 13:14:00</td>\n",
       "      <td>616.0</td>\n",
       "      <td>Mike</td>\n",
       "    </tr>\n",
       "    <tr>\n",
       "      <th>15</th>\n",
       "      <td>2011-10-07 14:10:00</td>\n",
       "      <td>NaN</td>\n",
       "      <td>Ben</td>\n",
       "    </tr>\n",
       "    <tr>\n",
       "      <th>16</th>\n",
       "      <td>2011-10-07 15:20:00</td>\n",
       "      <td>626.0</td>\n",
       "      <td>Mike M</td>\n",
       "    </tr>\n",
       "    <tr>\n",
       "      <th>17</th>\n",
       "      <td>2011-10-07 16:50:00</td>\n",
       "      <td>635.0</td>\n",
       "      <td>Mike M</td>\n",
       "    </tr>\n",
       "    <tr>\n",
       "      <th>18</th>\n",
       "      <td>2011-10-09 16:53:00</td>\n",
       "      <td>650.0</td>\n",
       "      <td>Colm</td>\n",
       "    </tr>\n",
       "    <tr>\n",
       "      <th>19</th>\n",
       "      <td>2011-10-10 07:29:00</td>\n",
       "      <td>656.0</td>\n",
       "      <td>Anthony</td>\n",
       "    </tr>\n",
       "    <tr>\n",
       "      <th>20</th>\n",
       "      <td>2011-10-10 10:13:00</td>\n",
       "      <td>673.0</td>\n",
       "      <td>Quentin</td>\n",
       "    </tr>\n",
       "    <tr>\n",
       "      <th>21</th>\n",
       "      <td>2011-10-10 13:41:00</td>\n",
       "      <td>694.0</td>\n",
       "      <td>Mike M</td>\n",
       "    </tr>\n",
       "    <tr>\n",
       "      <th>22</th>\n",
       "      <td>2011-10-10 14:02:00</td>\n",
       "      <td>699.0</td>\n",
       "      <td>Quentin</td>\n",
       "    </tr>\n",
       "    <tr>\n",
       "      <th>23</th>\n",
       "      <td>2011-10-10 15:23:00</td>\n",
       "      <td>713.0</td>\n",
       "      <td>Quentin</td>\n",
       "    </tr>\n",
       "    <tr>\n",
       "      <th>24</th>\n",
       "      <td>2011-10-11 14:09:00</td>\n",
       "      <td>770.0</td>\n",
       "      <td>Mike M</td>\n",
       "    </tr>\n",
       "    <tr>\n",
       "      <th>25</th>\n",
       "      <td>2011-10-12 08:11:00</td>\n",
       "      <td>790.0</td>\n",
       "      <td>Quentin</td>\n",
       "    </tr>\n",
       "    <tr>\n",
       "      <th>26</th>\n",
       "      <td>2011-10-12 09:57:00</td>\n",
       "      <td>799.0</td>\n",
       "      <td>Mike M</td>\n",
       "    </tr>\n",
       "    <tr>\n",
       "      <th>27</th>\n",
       "      <td>2011-10-12 10:06:00</td>\n",
       "      <td>805.0</td>\n",
       "      <td>Sergio</td>\n",
       "    </tr>\n",
       "    <tr>\n",
       "      <th>28</th>\n",
       "      <td>2011-10-12 12:01:00</td>\n",
       "      <td>818.0</td>\n",
       "      <td>Mike M</td>\n",
       "    </tr>\n",
       "    <tr>\n",
       "      <th>29</th>\n",
       "      <td>2011-10-12 12:30:00</td>\n",
       "      <td>819.0</td>\n",
       "      <td>Quentin</td>\n",
       "    </tr>\n",
       "    <tr>\n",
       "      <th>...</th>\n",
       "      <td>...</td>\n",
       "      <td>...</td>\n",
       "      <td>...</td>\n",
       "    </tr>\n",
       "    <tr>\n",
       "      <th>641</th>\n",
       "      <td>2013-01-28 10:43:00</td>\n",
       "      <td>NaN</td>\n",
       "      <td>Sergio</td>\n",
       "    </tr>\n",
       "    <tr>\n",
       "      <th>642</th>\n",
       "      <td>2013-01-28 13:13:00</td>\n",
       "      <td>NaN</td>\n",
       "      <td>Quentin</td>\n",
       "    </tr>\n",
       "    <tr>\n",
       "      <th>643</th>\n",
       "      <td>2013-01-28 14:01:00</td>\n",
       "      <td>16195.0</td>\n",
       "      <td>Quentin</td>\n",
       "    </tr>\n",
       "    <tr>\n",
       "      <th>644</th>\n",
       "      <td>2013-01-29 13:43:00</td>\n",
       "      <td>16237.0</td>\n",
       "      <td>Quentin</td>\n",
       "    </tr>\n",
       "    <tr>\n",
       "      <th>645</th>\n",
       "      <td>2013-01-29 15:06:00</td>\n",
       "      <td>16257.0</td>\n",
       "      <td>Quentin</td>\n",
       "    </tr>\n",
       "    <tr>\n",
       "      <th>646</th>\n",
       "      <td>2013-02-04 13:25:00</td>\n",
       "      <td>16513.0</td>\n",
       "      <td>Sergio</td>\n",
       "    </tr>\n",
       "    <tr>\n",
       "      <th>647</th>\n",
       "      <td>2013-02-06 17:33:00</td>\n",
       "      <td>16659.0</td>\n",
       "      <td>Quentin</td>\n",
       "    </tr>\n",
       "    <tr>\n",
       "      <th>648</th>\n",
       "      <td>2013-02-07 13:30:00</td>\n",
       "      <td>16714.0</td>\n",
       "      <td>Sergio</td>\n",
       "    </tr>\n",
       "    <tr>\n",
       "      <th>649</th>\n",
       "      <td>2013-02-12 08:36:00</td>\n",
       "      <td>16891.0</td>\n",
       "      <td>Sergio</td>\n",
       "    </tr>\n",
       "    <tr>\n",
       "      <th>650</th>\n",
       "      <td>2013-02-12 11:39:00</td>\n",
       "      <td>16909.0</td>\n",
       "      <td>Quentin</td>\n",
       "    </tr>\n",
       "    <tr>\n",
       "      <th>651</th>\n",
       "      <td>2013-02-13 13:58:00</td>\n",
       "      <td>16977.0</td>\n",
       "      <td>Quentin</td>\n",
       "    </tr>\n",
       "    <tr>\n",
       "      <th>652</th>\n",
       "      <td>2013-02-16 11:55:00</td>\n",
       "      <td>17104.0</td>\n",
       "      <td>Quentin</td>\n",
       "    </tr>\n",
       "    <tr>\n",
       "      <th>653</th>\n",
       "      <td>2013-02-18 12:04:00</td>\n",
       "      <td>NaN</td>\n",
       "      <td>Quentin</td>\n",
       "    </tr>\n",
       "    <tr>\n",
       "      <th>654</th>\n",
       "      <td>2013-02-18 13:46:00</td>\n",
       "      <td>17165.0</td>\n",
       "      <td>Quentin</td>\n",
       "    </tr>\n",
       "    <tr>\n",
       "      <th>655</th>\n",
       "      <td>2013-02-21 13:44:00</td>\n",
       "      <td>17345.0</td>\n",
       "      <td>Quentin</td>\n",
       "    </tr>\n",
       "    <tr>\n",
       "      <th>656</th>\n",
       "      <td>2013-02-21 15:02:00</td>\n",
       "      <td>17354.0</td>\n",
       "      <td>Quentin</td>\n",
       "    </tr>\n",
       "    <tr>\n",
       "      <th>657</th>\n",
       "      <td>2013-02-25 13:33:00</td>\n",
       "      <td>17468.0</td>\n",
       "      <td>Quentin</td>\n",
       "    </tr>\n",
       "    <tr>\n",
       "      <th>658</th>\n",
       "      <td>2013-02-25 17:25:00</td>\n",
       "      <td>17489.0</td>\n",
       "      <td>Quentin</td>\n",
       "    </tr>\n",
       "    <tr>\n",
       "      <th>659</th>\n",
       "      <td>2013-02-27 09:33:00</td>\n",
       "      <td>17564.0</td>\n",
       "      <td>Quentin</td>\n",
       "    </tr>\n",
       "    <tr>\n",
       "      <th>660</th>\n",
       "      <td>2013-03-04 10:46:00</td>\n",
       "      <td>17789.0</td>\n",
       "      <td>Sergio</td>\n",
       "    </tr>\n",
       "    <tr>\n",
       "      <th>661</th>\n",
       "      <td>2013-03-04 11:12:00</td>\n",
       "      <td>17793.0</td>\n",
       "      <td>Quentin</td>\n",
       "    </tr>\n",
       "    <tr>\n",
       "      <th>662</th>\n",
       "      <td>2013-03-04 16:43:00</td>\n",
       "      <td>17824.0</td>\n",
       "      <td>Quentin</td>\n",
       "    </tr>\n",
       "    <tr>\n",
       "      <th>663</th>\n",
       "      <td>2013-03-05 10:42:00</td>\n",
       "      <td>17852.0</td>\n",
       "      <td>Quentin</td>\n",
       "    </tr>\n",
       "    <tr>\n",
       "      <th>664</th>\n",
       "      <td>2013-03-05 13:29:00</td>\n",
       "      <td>17868.0</td>\n",
       "      <td>Quentin</td>\n",
       "    </tr>\n",
       "    <tr>\n",
       "      <th>665</th>\n",
       "      <td>2013-03-08 10:28:00</td>\n",
       "      <td>18062.0</td>\n",
       "      <td>Quentin</td>\n",
       "    </tr>\n",
       "    <tr>\n",
       "      <th>666</th>\n",
       "      <td>2013-03-12 08:28:00</td>\n",
       "      <td>18235.0</td>\n",
       "      <td>Sergio</td>\n",
       "    </tr>\n",
       "    <tr>\n",
       "      <th>667</th>\n",
       "      <td>2013-04-05 11:20:00</td>\n",
       "      <td>18942.0</td>\n",
       "      <td>Sergio</td>\n",
       "    </tr>\n",
       "    <tr>\n",
       "      <th>668</th>\n",
       "      <td>2013-04-27 11:04:00</td>\n",
       "      <td>19698.0</td>\n",
       "      <td>Sergio</td>\n",
       "    </tr>\n",
       "    <tr>\n",
       "      <th>669</th>\n",
       "      <td>2013-09-12 15:38:00</td>\n",
       "      <td>24450.0</td>\n",
       "      <td>Quentin</td>\n",
       "    </tr>\n",
       "    <tr>\n",
       "      <th>670</th>\n",
       "      <td>2013-09-13 10:28:00</td>\n",
       "      <td>24463.0</td>\n",
       "      <td>Quentin</td>\n",
       "    </tr>\n",
       "  </tbody>\n",
       "</table>\n",
       "<p>671 rows × 3 columns</p>\n",
       "</div>"
      ],
      "text/plain": [
       "               timestamp  coffees contributor\n",
       "0    2011-10-03 08:22:00    397.0     Quentin\n",
       "1    2011-10-04 11:48:00    410.0     Quentin\n",
       "2    2011-10-05 07:02:00  testing     Anthony\n",
       "3    2011-10-05 08:25:00      NaN     Quentin\n",
       "4    2011-10-05 10:47:00    464.0     Quentin\n",
       "5    2011-10-05 13:15:00    481.0     Quentin\n",
       "6    2011-10-06 07:21:00    503.0     Anthony\n",
       "7    2011-10-06 10:04:00    513.0     Quentin\n",
       "8    2011-10-06 12:14:00    539.0        Mike\n",
       "9    2011-10-06 12:49:00    540.0     Quentin\n",
       "10   2011-10-06 14:52:00    563.0         Ben\n",
       "11   2011-10-07 07:34:00    581.0     Anthony\n",
       "12   2011-10-07 08:37:00    587.0     Quentin\n",
       "13   2011-10-07 11:09:00    605.0     Quentin\n",
       "14   2011-10-07 13:14:00    616.0        Mike\n",
       "15   2011-10-07 14:10:00      NaN         Ben\n",
       "16   2011-10-07 15:20:00    626.0      Mike M\n",
       "17   2011-10-07 16:50:00    635.0      Mike M\n",
       "18   2011-10-09 16:53:00    650.0        Colm\n",
       "19   2011-10-10 07:29:00    656.0     Anthony\n",
       "20   2011-10-10 10:13:00    673.0     Quentin\n",
       "21   2011-10-10 13:41:00    694.0      Mike M\n",
       "22   2011-10-10 14:02:00    699.0     Quentin\n",
       "23   2011-10-10 15:23:00    713.0     Quentin\n",
       "24   2011-10-11 14:09:00    770.0      Mike M\n",
       "25   2011-10-12 08:11:00    790.0     Quentin\n",
       "26   2011-10-12 09:57:00    799.0      Mike M\n",
       "27   2011-10-12 10:06:00    805.0      Sergio\n",
       "28   2011-10-12 12:01:00    818.0      Mike M\n",
       "29   2011-10-12 12:30:00    819.0     Quentin\n",
       "..                   ...      ...         ...\n",
       "641  2013-01-28 10:43:00      NaN      Sergio\n",
       "642  2013-01-28 13:13:00      NaN     Quentin\n",
       "643  2013-01-28 14:01:00  16195.0     Quentin\n",
       "644  2013-01-29 13:43:00  16237.0     Quentin\n",
       "645  2013-01-29 15:06:00  16257.0     Quentin\n",
       "646  2013-02-04 13:25:00  16513.0      Sergio\n",
       "647  2013-02-06 17:33:00  16659.0     Quentin\n",
       "648  2013-02-07 13:30:00  16714.0      Sergio\n",
       "649  2013-02-12 08:36:00  16891.0      Sergio\n",
       "650  2013-02-12 11:39:00  16909.0     Quentin\n",
       "651  2013-02-13 13:58:00  16977.0     Quentin\n",
       "652  2013-02-16 11:55:00  17104.0     Quentin\n",
       "653  2013-02-18 12:04:00      NaN     Quentin\n",
       "654  2013-02-18 13:46:00  17165.0     Quentin\n",
       "655  2013-02-21 13:44:00  17345.0     Quentin\n",
       "656  2013-02-21 15:02:00  17354.0     Quentin\n",
       "657  2013-02-25 13:33:00  17468.0     Quentin\n",
       "658  2013-02-25 17:25:00  17489.0     Quentin\n",
       "659  2013-02-27 09:33:00  17564.0     Quentin\n",
       "660  2013-03-04 10:46:00  17789.0      Sergio\n",
       "661  2013-03-04 11:12:00  17793.0     Quentin\n",
       "662  2013-03-04 16:43:00  17824.0     Quentin\n",
       "663  2013-03-05 10:42:00  17852.0     Quentin\n",
       "664  2013-03-05 13:29:00  17868.0     Quentin\n",
       "665  2013-03-08 10:28:00  18062.0     Quentin\n",
       "666  2013-03-12 08:28:00  18235.0      Sergio\n",
       "667  2013-04-05 11:20:00  18942.0      Sergio\n",
       "668  2013-04-27 11:04:00  19698.0      Sergio\n",
       "669  2013-09-12 15:38:00  24450.0     Quentin\n",
       "670  2013-09-13 10:28:00  24463.0     Quentin\n",
       "\n",
       "[671 rows x 3 columns]"
      ]
     },
     "execution_count": 5,
     "metadata": {},
     "output_type": "execute_result"
    }
   ],
   "source": [
    "data"
   ]
  },
  {
   "cell_type": "markdown",
   "metadata": {
    "slideshow": {
     "slide_type": "subslide"
    }
   },
   "source": [
    "#### Let's just look at the first few rows."
   ]
  },
  {
   "cell_type": "code",
   "execution_count": 6,
   "metadata": {
    "collapsed": false
   },
   "outputs": [
    {
     "data": {
      "text/html": [
       "<div>\n",
       "<table border=\"1\" class=\"dataframe\">\n",
       "  <thead>\n",
       "    <tr style=\"text-align: right;\">\n",
       "      <th></th>\n",
       "      <th>timestamp</th>\n",
       "      <th>coffees</th>\n",
       "      <th>contributor</th>\n",
       "    </tr>\n",
       "  </thead>\n",
       "  <tbody>\n",
       "    <tr>\n",
       "      <th>0</th>\n",
       "      <td>2011-10-03 08:22:00</td>\n",
       "      <td>397.0</td>\n",
       "      <td>Quentin</td>\n",
       "    </tr>\n",
       "    <tr>\n",
       "      <th>1</th>\n",
       "      <td>2011-10-04 11:48:00</td>\n",
       "      <td>410.0</td>\n",
       "      <td>Quentin</td>\n",
       "    </tr>\n",
       "    <tr>\n",
       "      <th>2</th>\n",
       "      <td>2011-10-05 07:02:00</td>\n",
       "      <td>testing</td>\n",
       "      <td>Anthony</td>\n",
       "    </tr>\n",
       "    <tr>\n",
       "      <th>3</th>\n",
       "      <td>2011-10-05 08:25:00</td>\n",
       "      <td>NaN</td>\n",
       "      <td>Quentin</td>\n",
       "    </tr>\n",
       "    <tr>\n",
       "      <th>4</th>\n",
       "      <td>2011-10-05 10:47:00</td>\n",
       "      <td>464.0</td>\n",
       "      <td>Quentin</td>\n",
       "    </tr>\n",
       "  </tbody>\n",
       "</table>\n",
       "</div>"
      ],
      "text/plain": [
       "             timestamp  coffees contributor\n",
       "0  2011-10-03 08:22:00    397.0     Quentin\n",
       "1  2011-10-04 11:48:00    410.0     Quentin\n",
       "2  2011-10-05 07:02:00  testing     Anthony\n",
       "3  2011-10-05 08:25:00      NaN     Quentin\n",
       "4  2011-10-05 10:47:00    464.0     Quentin"
      ]
     },
     "execution_count": 6,
     "metadata": {},
     "output_type": "execute_result"
    }
   ],
   "source": [
    "# .head()\n",
    "data.head()"
   ]
  },
  {
   "cell_type": "markdown",
   "metadata": {
    "slideshow": {
     "slide_type": "fragment"
    }
   },
   "source": [
    "We have an index, and three columns : `timestamp`, `coffees`, and `contributor`.\n",
    "\n",
    "Uh-oh. Why is there a string of text, `testing`, in our coffee numbers ? What's going on in the `coffees` column in the row after that ?"
   ]
  },
  {
   "cell_type": "markdown",
   "metadata": {
    "slideshow": {
     "slide_type": "skip"
    }
   },
   "source": [
    "**Note :** `df.head(n=10)` would show the first ten rows. The default is `n=5`.\n",
    "\n",
    "https://pandas.pydata.org/pandas-docs/stable/generated/pandas.DataFrame.head.html"
   ]
  },
  {
   "cell_type": "markdown",
   "metadata": {
    "slideshow": {
     "slide_type": "subslide"
    }
   },
   "source": [
    "#### Let's look at that string in the third row."
   ]
  },
  {
   "cell_type": "code",
   "execution_count": 7,
   "metadata": {
    "collapsed": false
   },
   "outputs": [
    {
     "data": {
      "text/plain": [
       "timestamp      2011-10-05 07:02:00\n",
       "coffees                    testing\n",
       "contributor                Anthony\n",
       "Name: 2, dtype: object"
      ]
     },
     "execution_count": 7,
     "metadata": {},
     "output_type": "execute_result"
    }
   ],
   "source": [
    "# .loc or .iloc\n",
    "data.loc[2]"
   ]
  },
  {
   "cell_type": "markdown",
   "metadata": {
    "slideshow": {
     "slide_type": "fragment"
    }
   },
   "source": [
    "Definitely a string. We'll note this as something to fix after we finish looking around."
   ]
  },
  {
   "cell_type": "markdown",
   "metadata": {
    "slideshow": {
     "slide_type": "skip"
    }
   },
   "source": [
    "**Note :** `.loc` uses a label-based lookup, which means that the value you pass into the square brackets must be in the index. Another method, `.iloc`, is integer-location-based, so `.iloc[2]` would return the third row. In this case, they're the same, but had we changed our index, as we'll see later, things would work differently.\n",
    "\n",
    "Indexing a dataframe with `[]` directly returns a `pd.Series` or `pd.DataFrame` by searching over *columns*, not rows. Indexing a `pd.Series` with `[]` is like indexing a dataframe with `.iloc`.\n",
    "\n",
    "https://pandas.pydata.org/pandas-docs/stable/indexing.html"
   ]
  },
  {
   "cell_type": "markdown",
   "metadata": {
    "slideshow": {
     "slide_type": "subslide"
    }
   },
   "source": [
    "#### We should also take a look at that NaN. In fact, let's look at the first five values in `coffees`."
   ]
  },
  {
   "cell_type": "code",
   "execution_count": 8,
   "metadata": {
    "collapsed": false
   },
   "outputs": [
    {
     "data": {
      "text/plain": [
       "0      397.0\n",
       "1      410.0\n",
       "2    testing\n",
       "3        NaN\n",
       "4      464.0\n",
       "Name: coffees, dtype: object"
      ]
     },
     "execution_count": 8,
     "metadata": {},
     "output_type": "execute_result"
    }
   ],
   "source": [
    "# [] indexing on a series\n",
    "data.coffees[:5]"
   ]
  },
  {
   "cell_type": "markdown",
   "metadata": {
    "collapsed": true,
    "slideshow": {
     "slide_type": "skip"
    }
   },
   "source": [
    "**Note :** here, we're indexing a *series* ( a `pd.Series` object ). From a `pd.DataFrame` ( here, `data` ), when you access a single column ( `data.coffees` or `data[\"coffees\"]` ), the object returned is a `pd.Series`. From that, indexing directly with `[]` works in an integer-location-based manner, and like with numpy arrays, you can take slices ( `[:5]` ).\n",
    "\n",
    "https://pandas.pydata.org/pandas-docs/stable/generated/pandas.Series.html"
   ]
  },
  {
   "cell_type": "markdown",
   "metadata": {
    "slideshow": {
     "slide_type": "subslide"
    }
   },
   "source": [
    "#### How long is the dataset ?"
   ]
  },
  {
   "cell_type": "code",
   "execution_count": 9,
   "metadata": {
    "collapsed": false,
    "slideshow": {
     "slide_type": "-"
    }
   },
   "outputs": [
    {
     "name": "stdout",
     "output_type": "stream",
     "text": [
      "Dataset length :\n",
      "671\n"
     ]
    }
   ],
   "source": [
    "print(\"Dataset length :\")\n",
    "\n",
    "# len()\n",
    "print(len(data))"
   ]
  },
  {
   "cell_type": "markdown",
   "metadata": {
    "slideshow": {
     "slide_type": "subslide"
    }
   },
   "source": [
    "#### What else can we find out ?"
   ]
  },
  {
   "cell_type": "code",
   "execution_count": 10,
   "metadata": {
    "collapsed": false
   },
   "outputs": [
    {
     "data": {
      "text/html": [
       "<div>\n",
       "<table border=\"1\" class=\"dataframe\">\n",
       "  <thead>\n",
       "    <tr style=\"text-align: right;\">\n",
       "      <th></th>\n",
       "      <th>timestamp</th>\n",
       "      <th>coffees</th>\n",
       "      <th>contributor</th>\n",
       "    </tr>\n",
       "  </thead>\n",
       "  <tbody>\n",
       "    <tr>\n",
       "      <th>count</th>\n",
       "      <td>671</td>\n",
       "      <td>658</td>\n",
       "      <td>671</td>\n",
       "    </tr>\n",
       "    <tr>\n",
       "      <th>unique</th>\n",
       "      <td>671</td>\n",
       "      <td>654</td>\n",
       "      <td>9</td>\n",
       "    </tr>\n",
       "    <tr>\n",
       "      <th>top</th>\n",
       "      <td>2011-12-08 13:56:00</td>\n",
       "      <td>7216.0</td>\n",
       "      <td>Quentin</td>\n",
       "    </tr>\n",
       "    <tr>\n",
       "      <th>freq</th>\n",
       "      <td>1</td>\n",
       "      <td>2</td>\n",
       "      <td>367</td>\n",
       "    </tr>\n",
       "  </tbody>\n",
       "</table>\n",
       "</div>"
      ],
      "text/plain": [
       "                  timestamp coffees contributor\n",
       "count                   671     658         671\n",
       "unique                  671     654           9\n",
       "top     2011-12-08 13:56:00  7216.0     Quentin\n",
       "freq                      1       2         367"
      ]
     },
     "execution_count": 10,
     "metadata": {},
     "output_type": "execute_result"
    }
   ],
   "source": [
    "# .describe()\n",
    "data.describe()"
   ]
  },
  {
   "cell_type": "markdown",
   "metadata": {
    "slideshow": {
     "slide_type": "fragment"
    }
   },
   "source": [
    "Looks like we also have some missing data - we have 671 rows, but the `coffees` column only has 658 entries."
   ]
  },
  {
   "cell_type": "markdown",
   "metadata": {
    "slideshow": {
     "slide_type": "skip"
    }
   },
   "source": [
    "**Note :** `.describe()` returns different things based on what's in the dataframe, as we'll see later. For numerical columns, it will return things like the mean, standard deviation, and percentiles. For object columns ( strings or datetimes ), it will return the most frequent entry and the first and last items. For all columns, `.describe()` will return the count of objects in that column ( not counting NaNs ) and the unique number of entries. You can determine what's returned using `.describe()`'s keyword arguments.\n",
    "\n",
    "https://pandas.pydata.org/pandas-docs/stable/generated/pandas.DataFrame.describe.html"
   ]
  },
  {
   "cell_type": "markdown",
   "metadata": {
    "slideshow": {
     "slide_type": "subslide"
    }
   },
   "source": [
    "#### Let's look at the dataframe where `coffees` is null."
   ]
  },
  {
   "cell_type": "code",
   "execution_count": 13,
   "metadata": {
    "collapsed": false
   },
   "outputs": [
    {
     "data": {
      "text/html": [
       "<div>\n",
       "<table border=\"1\" class=\"dataframe\">\n",
       "  <thead>\n",
       "    <tr style=\"text-align: right;\">\n",
       "      <th></th>\n",
       "      <th>timestamp</th>\n",
       "      <th>coffees</th>\n",
       "      <th>contributor</th>\n",
       "    </tr>\n",
       "  </thead>\n",
       "  <tbody>\n",
       "    <tr>\n",
       "      <th>3</th>\n",
       "      <td>2011-10-05 08:25:00</td>\n",
       "      <td>NaN</td>\n",
       "      <td>Quentin</td>\n",
       "    </tr>\n",
       "    <tr>\n",
       "      <th>15</th>\n",
       "      <td>2011-10-07 14:10:00</td>\n",
       "      <td>NaN</td>\n",
       "      <td>Ben</td>\n",
       "    </tr>\n",
       "    <tr>\n",
       "      <th>72</th>\n",
       "      <td>2011-10-28 10:53:00</td>\n",
       "      <td>NaN</td>\n",
       "      <td>Mike M</td>\n",
       "    </tr>\n",
       "    <tr>\n",
       "      <th>95</th>\n",
       "      <td>2011-11-11 11:13:00</td>\n",
       "      <td>NaN</td>\n",
       "      <td>Quentin</td>\n",
       "    </tr>\n",
       "    <tr>\n",
       "      <th>323</th>\n",
       "      <td>2012-06-10 16:10:00</td>\n",
       "      <td>NaN</td>\n",
       "      <td>Sergio</td>\n",
       "    </tr>\n",
       "    <tr>\n",
       "      <th>370</th>\n",
       "      <td>2012-07-13 13:59:00</td>\n",
       "      <td>NaN</td>\n",
       "      <td>Mike</td>\n",
       "    </tr>\n",
       "    <tr>\n",
       "      <th>394</th>\n",
       "      <td>2012-08-03 14:35:00</td>\n",
       "      <td>NaN</td>\n",
       "      <td>Sergio</td>\n",
       "    </tr>\n",
       "    <tr>\n",
       "      <th>479</th>\n",
       "      <td>2012-09-21 10:15:00</td>\n",
       "      <td>NaN</td>\n",
       "      <td>Sergio</td>\n",
       "    </tr>\n",
       "    <tr>\n",
       "      <th>562</th>\n",
       "      <td>2012-11-01 09:45:00</td>\n",
       "      <td>NaN</td>\n",
       "      <td>Quentin</td>\n",
       "    </tr>\n",
       "    <tr>\n",
       "      <th>606</th>\n",
       "      <td>2012-11-30 13:11:00</td>\n",
       "      <td>NaN</td>\n",
       "      <td>Quentin</td>\n",
       "    </tr>\n",
       "    <tr>\n",
       "      <th>641</th>\n",
       "      <td>2013-01-28 10:43:00</td>\n",
       "      <td>NaN</td>\n",
       "      <td>Sergio</td>\n",
       "    </tr>\n",
       "    <tr>\n",
       "      <th>642</th>\n",
       "      <td>2013-01-28 13:13:00</td>\n",
       "      <td>NaN</td>\n",
       "      <td>Quentin</td>\n",
       "    </tr>\n",
       "    <tr>\n",
       "      <th>653</th>\n",
       "      <td>2013-02-18 12:04:00</td>\n",
       "      <td>NaN</td>\n",
       "      <td>Quentin</td>\n",
       "    </tr>\n",
       "  </tbody>\n",
       "</table>\n",
       "</div>"
      ],
      "text/plain": [
       "               timestamp coffees contributor\n",
       "3    2011-10-05 08:25:00     NaN     Quentin\n",
       "15   2011-10-07 14:10:00     NaN         Ben\n",
       "72   2011-10-28 10:53:00     NaN      Mike M\n",
       "95   2011-11-11 11:13:00     NaN     Quentin\n",
       "323  2012-06-10 16:10:00     NaN      Sergio\n",
       "370  2012-07-13 13:59:00     NaN        Mike\n",
       "394  2012-08-03 14:35:00     NaN      Sergio\n",
       "479  2012-09-21 10:15:00     NaN      Sergio\n",
       "562  2012-11-01 09:45:00     NaN     Quentin\n",
       "606  2012-11-30 13:11:00     NaN     Quentin\n",
       "641  2013-01-28 10:43:00     NaN      Sergio\n",
       "642  2013-01-28 13:13:00     NaN     Quentin\n",
       "653  2013-02-18 12:04:00     NaN     Quentin"
      ]
     },
     "execution_count": 13,
     "metadata": {},
     "output_type": "execute_result"
    }
   ],
   "source": [
    "# .isnull() and boolean indexing with []\n",
    "# data.isnull()\n",
    "# data.coffees.isnull()\n",
    "data[data.coffees.isnull()] #Search where coffees is null"
   ]
  },
  {
   "cell_type": "markdown",
   "metadata": {
    "slideshow": {
     "slide_type": "skip"
    }
   },
   "source": [
    "**Note :** `.isnull()` returns a boolean array ( an array of `True`s and `False`s ), that you can then use to index the dataframe directly. Here, our boolean array tells us which entries in the `coffees` column are null, and we use that to index against the full dataframe - so we get back every column in the dataframe, but only those rows where `coffees` is null.\n",
    "\n",
    "https://pandas.pydata.org/pandas-docs/stable/generated/pandas.DataFrame.isnull.html"
   ]
  },
  {
   "cell_type": "markdown",
   "metadata": {
    "slideshow": {
     "slide_type": "subslide"
    }
   },
   "source": [
    "#### What type of Python objects are the columns ?"
   ]
  },
  {
   "cell_type": "code",
   "execution_count": 12,
   "metadata": {
    "collapsed": false
   },
   "outputs": [
    {
     "data": {
      "text/plain": [
       "timestamp      object\n",
       "coffees        object\n",
       "contributor    object\n",
       "dtype: object"
      ]
     },
     "execution_count": 12,
     "metadata": {},
     "output_type": "execute_result"
    }
   ],
   "source": [
    "# .dtypes\n",
    "data.dtypes"
   ]
  },
  {
   "cell_type": "markdown",
   "metadata": {
    "slideshow": {
     "slide_type": "fragment"
    }
   },
   "source": [
    "The `contributor` column makes sense as `object`, because we expect strings there; but surely the `timestamp` should be a timestamp-type, and `coffees` should be numerical ?\n",
    "\n",
    "dtypes works on series and dataframes, type is a built in python method"
   ]
  },
  {
   "cell_type": "markdown",
   "metadata": {
    "slideshow": {
     "slide_type": "subslide"
    }
   },
   "source": [
    "#### Let's inspect what's in the `timestamp` column."
   ]
  },
  {
   "cell_type": "code",
   "execution_count": 14,
   "metadata": {
    "collapsed": false
   },
   "outputs": [
    {
     "name": "stdout",
     "output_type": "stream",
     "text": [
      "2011-10-03 08:22:00\n",
      "<class 'str'>\n"
     ]
    }
   ],
   "source": [
    "# print the first element of the series with [] indexing\n",
    "print(data.timestamp[0])\n",
    "\n",
    "# print its type()\n",
    "print(type(data.timestamp[0]))"
   ]
  },
  {
   "cell_type": "markdown",
   "metadata": {
    "slideshow": {
     "slide_type": "fragment"
    }
   },
   "source": [
    "It looks like the `timestamp` field was read from CSV as a string. That makes sense - CSV files are very basic. We'll have `pandas` interpret these strings as datetimes for us automatically."
   ]
  },
  {
   "cell_type": "markdown",
   "metadata": {
    "slideshow": {
     "slide_type": "skip"
    }
   },
   "source": [
    "**Note :** here's an example of using direct `[]` indexing on a `pd.Series`. We're accessing the first entry, just to see what type of object we have there."
   ]
  },
  {
   "cell_type": "markdown",
   "metadata": {
    "slideshow": {
     "slide_type": "subslide"
    }
   },
   "source": [
    "#### On our first pass, what problems did we find ?\n",
    "\n",
    "- The `timestamp` column contains strings; these need to be datetimes\n",
    "- The `coffees` column contains some null values and at least one string"
   ]
  },
  {
   "cell_type": "markdown",
   "metadata": {
    "slideshow": {
     "slide_type": "slide"
    }
   },
   "source": [
    "## Cleaning the data"
   ]
  },
  {
   "cell_type": "markdown",
   "metadata": {
    "slideshow": {
     "slide_type": "subslide"
    }
   },
   "source": [
    "#### The `coffees` column should only contain numerical data."
   ]
  },
  {
   "cell_type": "code",
   "execution_count": 15,
   "metadata": {
    "collapsed": false
   },
   "outputs": [
    {
     "data": {
      "text/html": [
       "<div>\n",
       "<table border=\"1\" class=\"dataframe\">\n",
       "  <thead>\n",
       "    <tr style=\"text-align: right;\">\n",
       "      <th></th>\n",
       "      <th>timestamp</th>\n",
       "      <th>coffees</th>\n",
       "      <th>contributor</th>\n",
       "    </tr>\n",
       "  </thead>\n",
       "  <tbody>\n",
       "    <tr>\n",
       "      <th>0</th>\n",
       "      <td>2011-10-03 08:22:00</td>\n",
       "      <td>397.0</td>\n",
       "      <td>Quentin</td>\n",
       "    </tr>\n",
       "    <tr>\n",
       "      <th>1</th>\n",
       "      <td>2011-10-04 11:48:00</td>\n",
       "      <td>410.0</td>\n",
       "      <td>Quentin</td>\n",
       "    </tr>\n",
       "    <tr>\n",
       "      <th>2</th>\n",
       "      <td>2011-10-05 07:02:00</td>\n",
       "      <td>NaN</td>\n",
       "      <td>Anthony</td>\n",
       "    </tr>\n",
       "    <tr>\n",
       "      <th>3</th>\n",
       "      <td>2011-10-05 08:25:00</td>\n",
       "      <td>NaN</td>\n",
       "      <td>Quentin</td>\n",
       "    </tr>\n",
       "    <tr>\n",
       "      <th>4</th>\n",
       "      <td>2011-10-05 10:47:00</td>\n",
       "      <td>464.0</td>\n",
       "      <td>Quentin</td>\n",
       "    </tr>\n",
       "  </tbody>\n",
       "</table>\n",
       "</div>"
      ],
      "text/plain": [
       "             timestamp  coffees contributor\n",
       "0  2011-10-03 08:22:00    397.0     Quentin\n",
       "1  2011-10-04 11:48:00    410.0     Quentin\n",
       "2  2011-10-05 07:02:00      NaN     Anthony\n",
       "3  2011-10-05 08:25:00      NaN     Quentin\n",
       "4  2011-10-05 10:47:00    464.0     Quentin"
      ]
     },
     "execution_count": 15,
     "metadata": {},
     "output_type": "execute_result"
    }
   ],
   "source": [
    "# cast the coffees column using pd.to_numeric, and coerce errors\n",
    "data.coffees = pd.to_numeric(data.coffees, errors=\"coerce\")\n",
    "\n",
    "data.head()"
   ]
  },
  {
   "cell_type": "markdown",
   "metadata": {
    "slideshow": {
     "slide_type": "subslide"
    }
   },
   "source": [
    " #### The `coffees` column contains NaNs."
   ]
  },
  {
   "cell_type": "code",
   "execution_count": 16,
   "metadata": {
    "collapsed": false
   },
   "outputs": [
    {
     "data": {
      "text/html": [
       "<div>\n",
       "<table border=\"1\" class=\"dataframe\">\n",
       "  <thead>\n",
       "    <tr style=\"text-align: right;\">\n",
       "      <th></th>\n",
       "      <th>timestamp</th>\n",
       "      <th>coffees</th>\n",
       "      <th>contributor</th>\n",
       "    </tr>\n",
       "  </thead>\n",
       "  <tbody>\n",
       "    <tr>\n",
       "      <th>0</th>\n",
       "      <td>2011-10-03 08:22:00</td>\n",
       "      <td>397.0</td>\n",
       "      <td>Quentin</td>\n",
       "    </tr>\n",
       "    <tr>\n",
       "      <th>1</th>\n",
       "      <td>2011-10-04 11:48:00</td>\n",
       "      <td>410.0</td>\n",
       "      <td>Quentin</td>\n",
       "    </tr>\n",
       "    <tr>\n",
       "      <th>4</th>\n",
       "      <td>2011-10-05 10:47:00</td>\n",
       "      <td>464.0</td>\n",
       "      <td>Quentin</td>\n",
       "    </tr>\n",
       "    <tr>\n",
       "      <th>5</th>\n",
       "      <td>2011-10-05 13:15:00</td>\n",
       "      <td>481.0</td>\n",
       "      <td>Quentin</td>\n",
       "    </tr>\n",
       "    <tr>\n",
       "      <th>6</th>\n",
       "      <td>2011-10-06 07:21:00</td>\n",
       "      <td>503.0</td>\n",
       "      <td>Anthony</td>\n",
       "    </tr>\n",
       "  </tbody>\n",
       "</table>\n",
       "</div>"
      ],
      "text/plain": [
       "             timestamp  coffees contributor\n",
       "0  2011-10-03 08:22:00    397.0     Quentin\n",
       "1  2011-10-04 11:48:00    410.0     Quentin\n",
       "4  2011-10-05 10:47:00    464.0     Quentin\n",
       "5  2011-10-05 13:15:00    481.0     Quentin\n",
       "6  2011-10-06 07:21:00    503.0     Anthony"
      ]
     },
     "execution_count": 16,
     "metadata": {},
     "output_type": "execute_result"
    }
   ],
   "source": [
    "# Use .dropna() using a subset, and pass inplace\n",
    "data.dropna(inplace=True)\n",
    "\n",
    "data.head()"
   ]
  },
  {
   "cell_type": "markdown",
   "metadata": {
    "slideshow": {
     "slide_type": "subslide"
    }
   },
   "source": [
    "#### The `coffees` column is of type `float`."
   ]
  },
  {
   "cell_type": "code",
   "execution_count": 17,
   "metadata": {
    "collapsed": false
   },
   "outputs": [
    {
     "data": {
      "text/html": [
       "<div>\n",
       "<table border=\"1\" class=\"dataframe\">\n",
       "  <thead>\n",
       "    <tr style=\"text-align: right;\">\n",
       "      <th></th>\n",
       "      <th>timestamp</th>\n",
       "      <th>coffees</th>\n",
       "      <th>contributor</th>\n",
       "    </tr>\n",
       "  </thead>\n",
       "  <tbody>\n",
       "    <tr>\n",
       "      <th>0</th>\n",
       "      <td>2011-10-03 08:22:00</td>\n",
       "      <td>397</td>\n",
       "      <td>Quentin</td>\n",
       "    </tr>\n",
       "    <tr>\n",
       "      <th>1</th>\n",
       "      <td>2011-10-04 11:48:00</td>\n",
       "      <td>410</td>\n",
       "      <td>Quentin</td>\n",
       "    </tr>\n",
       "    <tr>\n",
       "      <th>4</th>\n",
       "      <td>2011-10-05 10:47:00</td>\n",
       "      <td>464</td>\n",
       "      <td>Quentin</td>\n",
       "    </tr>\n",
       "    <tr>\n",
       "      <th>5</th>\n",
       "      <td>2011-10-05 13:15:00</td>\n",
       "      <td>481</td>\n",
       "      <td>Quentin</td>\n",
       "    </tr>\n",
       "    <tr>\n",
       "      <th>6</th>\n",
       "      <td>2011-10-06 07:21:00</td>\n",
       "      <td>503</td>\n",
       "      <td>Anthony</td>\n",
       "    </tr>\n",
       "  </tbody>\n",
       "</table>\n",
       "</div>"
      ],
      "text/plain": [
       "             timestamp  coffees contributor\n",
       "0  2011-10-03 08:22:00      397     Quentin\n",
       "1  2011-10-04 11:48:00      410     Quentin\n",
       "4  2011-10-05 10:47:00      464     Quentin\n",
       "5  2011-10-05 13:15:00      481     Quentin\n",
       "6  2011-10-06 07:21:00      503     Anthony"
      ]
     },
     "execution_count": 17,
     "metadata": {},
     "output_type": "execute_result"
    }
   ],
   "source": [
    "# Cast to int using .astype()\n",
    "data.coffees = data.coffees.astype(int)\n",
    "\n",
    "data.head()"
   ]
  },
  {
   "cell_type": "markdown",
   "metadata": {
    "slideshow": {
     "slide_type": "subslide"
    }
   },
   "source": [
    "#### Let's have pandas parse the `timestamp` strings to datetime objects. "
   ]
  },
  {
   "cell_type": "code",
   "execution_count": 20,
   "metadata": {
    "collapsed": false
   },
   "outputs": [
    {
     "data": {
      "text/plain": [
       "timestamp      datetime64[ns]\n",
       "coffees                 int64\n",
       "contributor            object\n",
       "dtype: object"
      ]
     },
     "execution_count": 20,
     "metadata": {},
     "output_type": "execute_result"
    }
   ],
   "source": [
    "# pd.to_datetime()\n",
    "data.timestamp = pd.to_datetime(data.timestamp)\n",
    "\n",
    "# Confirm dtypes\n",
    "data.dtypes"
   ]
  },
  {
   "cell_type": "markdown",
   "metadata": {
    "slideshow": {
     "slide_type": "subslide"
    }
   },
   "source": [
    "#### So where do we stand ?"
   ]
  },
  {
   "cell_type": "code",
   "execution_count": 22,
   "metadata": {
    "collapsed": false
   },
   "outputs": [
    {
     "data": {
      "text/html": [
       "<div>\n",
       "<table border=\"1\" class=\"dataframe\">\n",
       "  <thead>\n",
       "    <tr style=\"text-align: right;\">\n",
       "      <th></th>\n",
       "      <th>timestamp</th>\n",
       "      <th>coffees</th>\n",
       "      <th>contributor</th>\n",
       "    </tr>\n",
       "  </thead>\n",
       "  <tbody>\n",
       "    <tr>\n",
       "      <th>count</th>\n",
       "      <td>657</td>\n",
       "      <td>657.000000</td>\n",
       "      <td>657</td>\n",
       "    </tr>\n",
       "    <tr>\n",
       "      <th>unique</th>\n",
       "      <td>657</td>\n",
       "      <td>NaN</td>\n",
       "      <td>9</td>\n",
       "    </tr>\n",
       "    <tr>\n",
       "      <th>top</th>\n",
       "      <td>2011-10-24 14:32:00</td>\n",
       "      <td>NaN</td>\n",
       "      <td>Quentin</td>\n",
       "    </tr>\n",
       "    <tr>\n",
       "      <th>freq</th>\n",
       "      <td>1</td>\n",
       "      <td>NaN</td>\n",
       "      <td>361</td>\n",
       "    </tr>\n",
       "    <tr>\n",
       "      <th>first</th>\n",
       "      <td>2011-10-03 08:22:00</td>\n",
       "      <td>NaN</td>\n",
       "      <td>NaN</td>\n",
       "    </tr>\n",
       "    <tr>\n",
       "      <th>last</th>\n",
       "      <td>2013-09-13 10:28:00</td>\n",
       "      <td>NaN</td>\n",
       "      <td>NaN</td>\n",
       "    </tr>\n",
       "    <tr>\n",
       "      <th>mean</th>\n",
       "      <td>NaN</td>\n",
       "      <td>8568.471842</td>\n",
       "      <td>NaN</td>\n",
       "    </tr>\n",
       "    <tr>\n",
       "      <th>std</th>\n",
       "      <td>NaN</td>\n",
       "      <td>4600.215049</td>\n",
       "      <td>NaN</td>\n",
       "    </tr>\n",
       "    <tr>\n",
       "      <th>min</th>\n",
       "      <td>NaN</td>\n",
       "      <td>397.000000</td>\n",
       "      <td>NaN</td>\n",
       "    </tr>\n",
       "    <tr>\n",
       "      <th>25%</th>\n",
       "      <td>NaN</td>\n",
       "      <td>4986.000000</td>\n",
       "      <td>NaN</td>\n",
       "    </tr>\n",
       "    <tr>\n",
       "      <th>50%</th>\n",
       "      <td>NaN</td>\n",
       "      <td>9172.000000</td>\n",
       "      <td>NaN</td>\n",
       "    </tr>\n",
       "    <tr>\n",
       "      <th>75%</th>\n",
       "      <td>NaN</td>\n",
       "      <td>11562.000000</td>\n",
       "      <td>NaN</td>\n",
       "    </tr>\n",
       "    <tr>\n",
       "      <th>max</th>\n",
       "      <td>NaN</td>\n",
       "      <td>24463.000000</td>\n",
       "      <td>NaN</td>\n",
       "    </tr>\n",
       "  </tbody>\n",
       "</table>\n",
       "</div>"
      ],
      "text/plain": [
       "                  timestamp       coffees contributor\n",
       "count                   657    657.000000         657\n",
       "unique                  657           NaN           9\n",
       "top     2011-10-24 14:32:00           NaN     Quentin\n",
       "freq                      1           NaN         361\n",
       "first   2011-10-03 08:22:00           NaN         NaN\n",
       "last    2013-09-13 10:28:00           NaN         NaN\n",
       "mean                    NaN   8568.471842         NaN\n",
       "std                     NaN   4600.215049         NaN\n",
       "min                     NaN    397.000000         NaN\n",
       "25%                     NaN   4986.000000         NaN\n",
       "50%                     NaN   9172.000000         NaN\n",
       "75%                     NaN  11562.000000         NaN\n",
       "max                     NaN  24463.000000         NaN"
      ]
     },
     "execution_count": 22,
     "metadata": {},
     "output_type": "execute_result"
    }
   ],
   "source": [
    "# .describe(), passing the include kwarg to see all information\n",
    "data.describe(include='all')"
   ]
  },
  {
   "cell_type": "code",
   "execution_count": 23,
   "metadata": {
    "collapsed": false,
    "slideshow": {
     "slide_type": "subslide"
    }
   },
   "outputs": [
    {
     "data": {
      "text/html": [
       "<div>\n",
       "<table border=\"1\" class=\"dataframe\">\n",
       "  <thead>\n",
       "    <tr style=\"text-align: right;\">\n",
       "      <th></th>\n",
       "      <th>timestamp</th>\n",
       "      <th>coffees</th>\n",
       "      <th>contributor</th>\n",
       "    </tr>\n",
       "  </thead>\n",
       "  <tbody>\n",
       "    <tr>\n",
       "      <th>0</th>\n",
       "      <td>2011-10-03 08:22:00</td>\n",
       "      <td>397</td>\n",
       "      <td>Quentin</td>\n",
       "    </tr>\n",
       "    <tr>\n",
       "      <th>1</th>\n",
       "      <td>2011-10-04 11:48:00</td>\n",
       "      <td>410</td>\n",
       "      <td>Quentin</td>\n",
       "    </tr>\n",
       "    <tr>\n",
       "      <th>4</th>\n",
       "      <td>2011-10-05 10:47:00</td>\n",
       "      <td>464</td>\n",
       "      <td>Quentin</td>\n",
       "    </tr>\n",
       "    <tr>\n",
       "      <th>5</th>\n",
       "      <td>2011-10-05 13:15:00</td>\n",
       "      <td>481</td>\n",
       "      <td>Quentin</td>\n",
       "    </tr>\n",
       "    <tr>\n",
       "      <th>6</th>\n",
       "      <td>2011-10-06 07:21:00</td>\n",
       "      <td>503</td>\n",
       "      <td>Anthony</td>\n",
       "    </tr>\n",
       "  </tbody>\n",
       "</table>\n",
       "</div>"
      ],
      "text/plain": [
       "            timestamp  coffees contributor\n",
       "0 2011-10-03 08:22:00      397     Quentin\n",
       "1 2011-10-04 11:48:00      410     Quentin\n",
       "4 2011-10-05 10:47:00      464     Quentin\n",
       "5 2011-10-05 13:15:00      481     Quentin\n",
       "6 2011-10-06 07:21:00      503     Anthony"
      ]
     },
     "execution_count": 23,
     "metadata": {},
     "output_type": "execute_result"
    }
   ],
   "source": [
    "# What do the first few rows look like ?\n",
    "data.head()"
   ]
  },
  {
   "cell_type": "markdown",
   "metadata": {
    "slideshow": {
     "slide_type": "skip"
    }
   },
   "source": [
    "**Note :** `.describe(include=\"all\")` is describing all attributes of all columns, but some don't make sense based on the column's `dtype`. For example, the contributor column has no `first` and `last` attributes, because those describe the first and last entries in an ordered series. That makes sense for the timestamp - those have an intuitive definition of sorting - but not so much for strings ( alphabetical order doesn't really matter when they're arbitrary strings ). Similary, the timestamp column has no mean or other numerical traits. What does it mean to calculate the mean timestamp ?"
   ]
  },
  {
   "cell_type": "markdown",
   "metadata": {
    "slideshow": {
     "slide_type": "slide"
    }
   },
   "source": [
    "## The time-series at a glance"
   ]
  },
  {
   "cell_type": "markdown",
   "metadata": {
    "slideshow": {
     "slide_type": "subslide"
    }
   },
   "source": [
    "#### Let's begin by visualising the coffee counts."
   ]
  },
  {
   "cell_type": "code",
   "execution_count": 24,
   "metadata": {
    "collapsed": false
   },
   "outputs": [
    {
     "data": {
      "text/plain": [
       "<matplotlib.axes._subplots.AxesSubplot at 0x108c7a978>"
      ]
     },
     "execution_count": 24,
     "metadata": {},
     "output_type": "execute_result"
    },
    {
     "data": {
      "image/png": "[encoded data removed]",
      "text/plain": [
       "<matplotlib.figure.Figure at 0x108c7a358>"
      ]
     },
     "metadata": {},
     "output_type": "display_data"
    }
   ],
   "source": [
    "# .plot() on the coffees series\n",
    "data.coffees.plot()"
   ]
  },
  {
   "cell_type": "markdown",
   "metadata": {
    "slideshow": {
     "slide_type": "fragment"
    }
   },
   "source": [
    "`pandas` is plotting the coffees against the index, which is just a series of integers."
   ]
  },
  {
   "cell_type": "markdown",
   "metadata": {
    "slideshow": {
     "slide_type": "skip"
    }
   },
   "source": [
    "**Note :** `.plot()` on a `pd.Series` will plot the data against the index. On a `pd.DataFrame`, the `.plot()` method allows plotting of one column against another.\n",
    "\n",
    "By default, `.plot()` renders a line graph, but you can specify which type of plot you'd like - bar, line, histogram, area, scatter, etc..\n",
    "\n",
    "https://pandas.pydata.org/pandas-docs/stable/generated/pandas.Series.plot.html\n",
    "\n",
    "https://pandas.pydata.org/pandas-docs/stable/generated/pandas.DataFrame.plot.html"
   ]
  },
  {
   "cell_type": "markdown",
   "metadata": {
    "slideshow": {
     "slide_type": "subslide"
    }
   },
   "source": [
    "#### Let's use the dataframe's `plot()` method rather than that of the series."
   ]
  },
  {
   "cell_type": "code",
   "execution_count": 25,
   "metadata": {
    "collapsed": false
   },
   "outputs": [
    {
     "data": {
      "text/plain": [
       "<matplotlib.axes._subplots.AxesSubplot at 0x108d591d0>"
      ]
     },
     "execution_count": 25,
     "metadata": {},
     "output_type": "execute_result"
    },
    {
     "data": {
      "image/png": "[encoded data removed]",
      "text/plain": [
       "<matplotlib.figure.Figure at 0x108cb0eb8>"
      ]
     },
     "metadata": {},
     "output_type": "display_data"
    }
   ],
   "source": [
    "# .plot() on the dataframe, setting x to \n",
    "# the timestamp, with dot-dash style\n",
    "data.plot(x=data.timestamp, style='.-')"
   ]
  },
  {
   "cell_type": "markdown",
   "metadata": {
    "slideshow": {
     "slide_type": "fragment"
    }
   },
   "source": [
    "We have some very uneven spacing in places. We might start by cutting off the last few points of this time-series, which is missing a lot of data."
   ]
  },
  {
   "cell_type": "markdown",
   "metadata": {
    "slideshow": {
     "slide_type": "subslide"
    }
   },
   "source": [
    "#### We'll inspect the last few points of this time-series."
   ]
  },
  {
   "cell_type": "code",
   "execution_count": 28,
   "metadata": {
    "collapsed": false
   },
   "outputs": [
    {
     "data": {
      "text/html": [
       "<div>\n",
       "<table border=\"1\" class=\"dataframe\">\n",
       "  <thead>\n",
       "    <tr style=\"text-align: right;\">\n",
       "      <th></th>\n",
       "      <th>timestamp</th>\n",
       "      <th>coffees</th>\n",
       "      <th>contributor</th>\n",
       "    </tr>\n",
       "  </thead>\n",
       "  <tbody>\n",
       "    <tr>\n",
       "      <th>661</th>\n",
       "      <td>2013-03-04 11:12:00</td>\n",
       "      <td>17793</td>\n",
       "      <td>Quentin</td>\n",
       "    </tr>\n",
       "    <tr>\n",
       "      <th>662</th>\n",
       "      <td>2013-03-04 16:43:00</td>\n",
       "      <td>17824</td>\n",
       "      <td>Quentin</td>\n",
       "    </tr>\n",
       "    <tr>\n",
       "      <th>663</th>\n",
       "      <td>2013-03-05 10:42:00</td>\n",
       "      <td>17852</td>\n",
       "      <td>Quentin</td>\n",
       "    </tr>\n",
       "    <tr>\n",
       "      <th>664</th>\n",
       "      <td>2013-03-05 13:29:00</td>\n",
       "      <td>17868</td>\n",
       "      <td>Quentin</td>\n",
       "    </tr>\n",
       "    <tr>\n",
       "      <th>665</th>\n",
       "      <td>2013-03-08 10:28:00</td>\n",
       "      <td>18062</td>\n",
       "      <td>Quentin</td>\n",
       "    </tr>\n",
       "    <tr>\n",
       "      <th>666</th>\n",
       "      <td>2013-03-12 08:28:00</td>\n",
       "      <td>18235</td>\n",
       "      <td>Sergio</td>\n",
       "    </tr>\n",
       "    <tr>\n",
       "      <th>667</th>\n",
       "      <td>2013-04-05 11:20:00</td>\n",
       "      <td>18942</td>\n",
       "      <td>Sergio</td>\n",
       "    </tr>\n",
       "    <tr>\n",
       "      <th>668</th>\n",
       "      <td>2013-04-27 11:04:00</td>\n",
       "      <td>19698</td>\n",
       "      <td>Sergio</td>\n",
       "    </tr>\n",
       "    <tr>\n",
       "      <th>669</th>\n",
       "      <td>2013-09-12 15:38:00</td>\n",
       "      <td>24450</td>\n",
       "      <td>Quentin</td>\n",
       "    </tr>\n",
       "    <tr>\n",
       "      <th>670</th>\n",
       "      <td>2013-09-13 10:28:00</td>\n",
       "      <td>24463</td>\n",
       "      <td>Quentin</td>\n",
       "    </tr>\n",
       "  </tbody>\n",
       "</table>\n",
       "</div>"
      ],
      "text/plain": [
       "              timestamp  coffees contributor\n",
       "661 2013-03-04 11:12:00    17793     Quentin\n",
       "662 2013-03-04 16:43:00    17824     Quentin\n",
       "663 2013-03-05 10:42:00    17852     Quentin\n",
       "664 2013-03-05 13:29:00    17868     Quentin\n",
       "665 2013-03-08 10:28:00    18062     Quentin\n",
       "666 2013-03-12 08:28:00    18235      Sergio\n",
       "667 2013-04-05 11:20:00    18942      Sergio\n",
       "668 2013-04-27 11:04:00    19698      Sergio\n",
       "669 2013-09-12 15:38:00    24450     Quentin\n",
       "670 2013-09-13 10:28:00    24463     Quentin"
      ]
     },
     "execution_count": 28,
     "metadata": {},
     "output_type": "execute_result"
    }
   ],
   "source": [
    "# .tail() with ten rows\n",
    "data.tail(n=10)"
   ]
  },
  {
   "cell_type": "markdown",
   "metadata": {
    "slideshow": {
     "slide_type": "fragment"
    }
   },
   "source": [
    "After mid-March, things start getting spaced rather erratically."
   ]
  },
  {
   "cell_type": "markdown",
   "metadata": {
    "slideshow": {
     "slide_type": "subslide"
    }
   },
   "source": [
    "#### Let's cut off the tail of the time-series, anything after 2013-03-01."
   ]
  },
  {
   "cell_type": "code",
   "execution_count": 29,
   "metadata": {
    "collapsed": false
   },
   "outputs": [
    {
     "data": {
      "text/html": [
       "<div>\n",
       "<table border=\"1\" class=\"dataframe\">\n",
       "  <thead>\n",
       "    <tr style=\"text-align: right;\">\n",
       "      <th></th>\n",
       "      <th>timestamp</th>\n",
       "      <th>coffees</th>\n",
       "      <th>contributor</th>\n",
       "    </tr>\n",
       "  </thead>\n",
       "  <tbody>\n",
       "    <tr>\n",
       "      <th>655</th>\n",
       "      <td>2013-02-21 13:44:00</td>\n",
       "      <td>17345</td>\n",
       "      <td>Quentin</td>\n",
       "    </tr>\n",
       "    <tr>\n",
       "      <th>656</th>\n",
       "      <td>2013-02-21 15:02:00</td>\n",
       "      <td>17354</td>\n",
       "      <td>Quentin</td>\n",
       "    </tr>\n",
       "    <tr>\n",
       "      <th>657</th>\n",
       "      <td>2013-02-25 13:33:00</td>\n",
       "      <td>17468</td>\n",
       "      <td>Quentin</td>\n",
       "    </tr>\n",
       "    <tr>\n",
       "      <th>658</th>\n",
       "      <td>2013-02-25 17:25:00</td>\n",
       "      <td>17489</td>\n",
       "      <td>Quentin</td>\n",
       "    </tr>\n",
       "    <tr>\n",
       "      <th>659</th>\n",
       "      <td>2013-02-27 09:33:00</td>\n",
       "      <td>17564</td>\n",
       "      <td>Quentin</td>\n",
       "    </tr>\n",
       "  </tbody>\n",
       "</table>\n",
       "</div>"
      ],
      "text/plain": [
       "              timestamp  coffees contributor\n",
       "655 2013-02-21 13:44:00    17345     Quentin\n",
       "656 2013-02-21 15:02:00    17354     Quentin\n",
       "657 2013-02-25 13:33:00    17468     Quentin\n",
       "658 2013-02-25 17:25:00    17489     Quentin\n",
       "659 2013-02-27 09:33:00    17564     Quentin"
      ]
     },
     "execution_count": 29,
     "metadata": {},
     "output_type": "execute_result"
    }
   ],
   "source": [
    "# Use conditional indexing against the timestamp\n",
    "data = data[data.timestamp < \"2013-03-01\"]\n",
    "\n",
    "data.tail()"
   ]
  },
  {
   "cell_type": "markdown",
   "metadata": {
    "slideshow": {
     "slide_type": "skip"
    }
   },
   "source": [
    "**Note :** this is another example of boolean indexing. `data.timestamp < \"2013-03-01\"` is a boolean array, and can be passed into the dataframe immediately in `[]`, much like with a `np.ndarray`."
   ]
  },
  {
   "cell_type": "markdown",
   "metadata": {
    "slideshow": {
     "slide_type": "subslide"
    }
   },
   "source": [
    "#### One final look."
   ]
  },
  {
   "cell_type": "code",
   "execution_count": 30,
   "metadata": {
    "collapsed": false
   },
   "outputs": [
    {
     "data": {
      "text/plain": [
       "<matplotlib.axes._subplots.AxesSubplot at 0x108e68d30>"
      ]
     },
     "execution_count": 30,
     "metadata": {},
     "output_type": "execute_result"
    },
    {
     "data": {
      "image/png": "[encoded data removed]",
      "text/plain": [
       "<matplotlib.figure.Figure at 0x108d92780>"
      ]
     },
     "metadata": {},
     "output_type": "display_data"
    }
   ],
   "source": [
    "# Once again, plot the data against the timestamp\n",
    "data.plot(x=data.timestamp, style='.-')"
   ]
  },
  {
   "cell_type": "markdown",
   "metadata": {
    "slideshow": {
     "slide_type": "slide"
    }
   },
   "source": [
    "## 1. Contributions to the time-series"
   ]
  },
  {
   "cell_type": "markdown",
   "metadata": {
    "slideshow": {
     "slide_type": "subslide"
    }
   },
   "source": [
    "#### Who are our main contributors ?"
   ]
  },
  {
   "cell_type": "code",
   "execution_count": 31,
   "metadata": {
    "collapsed": false
   },
   "outputs": [
    {
     "data": {
      "text/plain": [
       "Quentin    354\n",
       "Mike       152\n",
       "Sergio      89\n",
       "Mike M      29\n",
       "Colm        12\n",
       "Anthony      4\n",
       "Ben          3\n",
       "Stefano      2\n",
       "Arturo       1\n",
       "Name: contributor, dtype: int64"
      ]
     },
     "execution_count": 31,
     "metadata": {},
     "output_type": "execute_result"
    }
   ],
   "source": [
    "# .value_counts()\n",
    "data.contributor.value_counts()"
   ]
  },
  {
   "cell_type": "markdown",
   "metadata": {
    "slideshow": {
     "slide_type": "skip"
    }
   },
   "source": [
    "**Note :** `.value_counts()` counts the unique values in a series. It's similar to doing a `.groupby()` followed by a `.count()`, as we'll see soon.\n",
    "\n",
    "https://pandas.pydata.org/pandas-docs/stable/generated/pandas.Series.value_counts.html"
   ]
  },
  {
   "cell_type": "markdown",
   "metadata": {
    "slideshow": {
     "slide_type": "subslide"
    }
   },
   "source": [
    "#### Let's plot this."
   ]
  },
  {
   "cell_type": "code",
   "execution_count": 32,
   "metadata": {
    "collapsed": false
   },
   "outputs": [
    {
     "data": {
      "text/plain": [
       "<matplotlib.axes._subplots.AxesSubplot at 0x108f9efd0>"
      ]
     },
     "execution_count": 32,
     "metadata": {},
     "output_type": "execute_result"
    },
    {
     "data": {
      "image/png": "[encoded data removed]",
      "text/plain": [
       "<matplotlib.figure.Figure at 0x108d80358>"
      ]
     },
     "metadata": {},
     "output_type": "display_data"
    }
   ],
   "source": [
    "# .plot() a bar chart from the value counts\n",
    "data.contributor.value_counts().plot(kind=\"bar\")"
   ]
  },
  {
   "cell_type": "markdown",
   "metadata": {
    "slideshow": {
     "slide_type": "subslide"
    }
   },
   "source": [
    "#### On which weekdays were contributions made ?"
   ]
  },
  {
   "cell_type": "code",
   "execution_count": 33,
   "metadata": {
    "collapsed": false
   },
   "outputs": [
    {
     "data": {
      "text/html": [
       "<div>\n",
       "<table border=\"1\" class=\"dataframe\">\n",
       "  <thead>\n",
       "    <tr style=\"text-align: right;\">\n",
       "      <th></th>\n",
       "      <th>timestamp</th>\n",
       "      <th>coffees</th>\n",
       "      <th>contributor</th>\n",
       "      <th>weekdays</th>\n",
       "    </tr>\n",
       "  </thead>\n",
       "  <tbody>\n",
       "    <tr>\n",
       "      <th>0</th>\n",
       "      <td>2011-10-03 08:22:00</td>\n",
       "      <td>397</td>\n",
       "      <td>Quentin</td>\n",
       "      <td>0</td>\n",
       "    </tr>\n",
       "    <tr>\n",
       "      <th>1</th>\n",
       "      <td>2011-10-04 11:48:00</td>\n",
       "      <td>410</td>\n",
       "      <td>Quentin</td>\n",
       "      <td>1</td>\n",
       "    </tr>\n",
       "    <tr>\n",
       "      <th>4</th>\n",
       "      <td>2011-10-05 10:47:00</td>\n",
       "      <td>464</td>\n",
       "      <td>Quentin</td>\n",
       "      <td>2</td>\n",
       "    </tr>\n",
       "    <tr>\n",
       "      <th>5</th>\n",
       "      <td>2011-10-05 13:15:00</td>\n",
       "      <td>481</td>\n",
       "      <td>Quentin</td>\n",
       "      <td>2</td>\n",
       "    </tr>\n",
       "    <tr>\n",
       "      <th>6</th>\n",
       "      <td>2011-10-06 07:21:00</td>\n",
       "      <td>503</td>\n",
       "      <td>Anthony</td>\n",
       "      <td>3</td>\n",
       "    </tr>\n",
       "  </tbody>\n",
       "</table>\n",
       "</div>"
      ],
      "text/plain": [
       "            timestamp  coffees contributor  weekdays\n",
       "0 2011-10-03 08:22:00      397     Quentin         0\n",
       "1 2011-10-04 11:48:00      410     Quentin         1\n",
       "4 2011-10-05 10:47:00      464     Quentin         2\n",
       "5 2011-10-05 13:15:00      481     Quentin         2\n",
       "6 2011-10-06 07:21:00      503     Anthony         3"
      ]
     },
     "execution_count": 33,
     "metadata": {},
     "output_type": "execute_result"
    }
   ],
   "source": [
    "# Create a series of the weekdays\n",
    "# for each entry using .dt.weekday\n",
    "weekdays = data.timestamp.dt.weekday\n",
    "# .assign() it to our dataframe, assign takes a copy instead of a view\n",
    "data = data.assign(weekdays=weekdays)\n",
    "\n",
    "data.head()"
   ]
  },
  {
   "cell_type": "markdown",
   "metadata": {
    "slideshow": {
     "slide_type": "subslide"
    }
   },
   "source": [
    "#### Can we replace these integers with actual weekdays ?"
   ]
  },
  {
   "cell_type": "code",
   "execution_count": 34,
   "metadata": {
    "collapsed": false
   },
   "outputs": [
    {
     "data": {
      "text/html": [
       "<div>\n",
       "<table border=\"1\" class=\"dataframe\">\n",
       "  <thead>\n",
       "    <tr style=\"text-align: right;\">\n",
       "      <th></th>\n",
       "      <th>timestamp</th>\n",
       "      <th>coffees</th>\n",
       "      <th>contributor</th>\n",
       "      <th>weekdays</th>\n",
       "    </tr>\n",
       "  </thead>\n",
       "  <tbody>\n",
       "    <tr>\n",
       "      <th>0</th>\n",
       "      <td>2011-10-03 08:22:00</td>\n",
       "      <td>397</td>\n",
       "      <td>Quentin</td>\n",
       "      <td>Monday</td>\n",
       "    </tr>\n",
       "    <tr>\n",
       "      <th>1</th>\n",
       "      <td>2011-10-04 11:48:00</td>\n",
       "      <td>410</td>\n",
       "      <td>Quentin</td>\n",
       "      <td>Tuesday</td>\n",
       "    </tr>\n",
       "    <tr>\n",
       "      <th>4</th>\n",
       "      <td>2011-10-05 10:47:00</td>\n",
       "      <td>464</td>\n",
       "      <td>Quentin</td>\n",
       "      <td>Wednesday</td>\n",
       "    </tr>\n",
       "    <tr>\n",
       "      <th>5</th>\n",
       "      <td>2011-10-05 13:15:00</td>\n",
       "      <td>481</td>\n",
       "      <td>Quentin</td>\n",
       "      <td>Wednesday</td>\n",
       "    </tr>\n",
       "    <tr>\n",
       "      <th>6</th>\n",
       "      <td>2011-10-06 07:21:00</td>\n",
       "      <td>503</td>\n",
       "      <td>Anthony</td>\n",
       "      <td>Thursday</td>\n",
       "    </tr>\n",
       "  </tbody>\n",
       "</table>\n",
       "</div>"
      ],
      "text/plain": [
       "            timestamp  coffees contributor   weekdays\n",
       "0 2011-10-03 08:22:00      397     Quentin     Monday\n",
       "1 2011-10-04 11:48:00      410     Quentin    Tuesday\n",
       "4 2011-10-05 10:47:00      464     Quentin  Wednesday\n",
       "5 2011-10-05 13:15:00      481     Quentin  Wednesday\n",
       "6 2011-10-06 07:21:00      503     Anthony   Thursday"
      ]
     },
     "execution_count": 34,
     "metadata": {},
     "output_type": "execute_result"
    }
   ],
   "source": [
    "weekday_names = [\"Monday\", \"Tuesday\", \"Wednesday\", \"Thursday\", \"Friday\", \"Saturday\", \"Sunday\"]\n",
    "weekday_dict = {key: weekday_names[key] for key in range(7)}\n",
    "\n",
    "# Use .apply() to apply a custom function to the weekdays column\n",
    "data.weekdays = data.weekdays.apply(lambda x: weekday_dict[x])\n",
    "\n",
    "data.head()"
   ]
  },
  {
   "cell_type": "markdown",
   "metadata": {
    "slideshow": {
     "slide_type": "subslide"
    }
   },
   "source": [
    "#### Let's group by these weekdays."
   ]
  },
  {
   "cell_type": "code",
   "execution_count": 38,
   "metadata": {
    "collapsed": false
   },
   "outputs": [
    {
     "data": {
      "text/html": [
       "<div>\n",
       "<table border=\"1\" class=\"dataframe\">\n",
       "  <thead>\n",
       "    <tr style=\"text-align: right;\">\n",
       "      <th></th>\n",
       "      <th>timestamp</th>\n",
       "      <th>coffees</th>\n",
       "      <th>contributor</th>\n",
       "    </tr>\n",
       "    <tr>\n",
       "      <th>weekdays</th>\n",
       "      <th></th>\n",
       "      <th></th>\n",
       "      <th></th>\n",
       "    </tr>\n",
       "  </thead>\n",
       "  <tbody>\n",
       "    <tr>\n",
       "      <th>Monday</th>\n",
       "      <td>145</td>\n",
       "      <td>145</td>\n",
       "      <td>145</td>\n",
       "    </tr>\n",
       "    <tr>\n",
       "      <th>Tuesday</th>\n",
       "      <td>97</td>\n",
       "      <td>97</td>\n",
       "      <td>97</td>\n",
       "    </tr>\n",
       "    <tr>\n",
       "      <th>Wednesday</th>\n",
       "      <td>131</td>\n",
       "      <td>131</td>\n",
       "      <td>131</td>\n",
       "    </tr>\n",
       "    <tr>\n",
       "      <th>Thursday</th>\n",
       "      <td>117</td>\n",
       "      <td>117</td>\n",
       "      <td>117</td>\n",
       "    </tr>\n",
       "    <tr>\n",
       "      <th>Friday</th>\n",
       "      <td>114</td>\n",
       "      <td>114</td>\n",
       "      <td>114</td>\n",
       "    </tr>\n",
       "    <tr>\n",
       "      <th>Saturday</th>\n",
       "      <td>29</td>\n",
       "      <td>29</td>\n",
       "      <td>29</td>\n",
       "    </tr>\n",
       "    <tr>\n",
       "      <th>Sunday</th>\n",
       "      <td>13</td>\n",
       "      <td>13</td>\n",
       "      <td>13</td>\n",
       "    </tr>\n",
       "  </tbody>\n",
       "</table>\n",
       "</div>"
      ],
      "text/plain": [
       "           timestamp  coffees  contributor\n",
       "weekdays                                  \n",
       "Monday           145      145          145\n",
       "Tuesday           97       97           97\n",
       "Wednesday        131      131          131\n",
       "Thursday         117      117          117\n",
       "Friday           114      114          114\n",
       "Saturday          29       29           29\n",
       "Sunday            13       13           13"
      ]
     },
     "execution_count": 38,
     "metadata": {},
     "output_type": "execute_result"
    }
   ],
   "source": [
    "# .groupby() the weekdays and then .count() rows in each group\n",
    "weekday_counts = data.groupby('weekdays').count()\n",
    "\n",
    "# We can reorder this dataframe by our weekday_names list\n",
    "weekday_counts = weekday_counts.loc[weekday_names]\n",
    "\n",
    "weekday_counts"
   ]
  },
  {
   "cell_type": "markdown",
   "metadata": {
    "slideshow": {
     "slide_type": "skip"
    }
   },
   "source": [
    "**Note :** this first line could be replaced by `weekday_counts = data.coffees.value_counts()`, with the only difference being that that would return a series to us, and here, we got back a dataframe."
   ]
  },
  {
   "cell_type": "markdown",
   "metadata": {
    "slideshow": {
     "slide_type": "subslide"
    }
   },
   "source": [
    "#### We can now visualise these weekday counts."
   ]
  },
  {
   "cell_type": "code",
   "execution_count": 42,
   "metadata": {
    "collapsed": false,
    "scrolled": false
   },
   "outputs": [
    {
     "data": {
      "text/plain": [
       "<matplotlib.axes._subplots.AxesSubplot at 0x1094fbe10>"
      ]
     },
     "execution_count": 42,
     "metadata": {},
     "output_type": "execute_result"
    },
    {
     "data": {
      "image/png": "[encoded data removed]",
      "text/plain": [
       "<matplotlib.figure.Figure at 0x1094af780>"
      ]
     },
     "metadata": {},
     "output_type": "display_data"
    }
   ],
   "source": [
    "# .plot() a bar chart of data in weekday_counts\n",
    "weekday_counts.timestamp.plot(kind='bar', title=\"Datapoints added on each weekday\")"
   ]
  },
  {
   "cell_type": "markdown",
   "metadata": {
    "slideshow": {
     "slide_type": "slide"
    }
   },
   "source": [
    "## 2. Weekday trends"
   ]
  },
  {
   "cell_type": "markdown",
   "metadata": {
    "slideshow": {
     "slide_type": "subslide"
    }
   },
   "source": [
    "#### First, we'll set our timestamps to the dataframe's index"
   ]
  },
  {
   "cell_type": "code",
   "execution_count": 43,
   "metadata": {
    "collapsed": false
   },
   "outputs": [
    {
     "data": {
      "text/html": [
       "<div>\n",
       "<table border=\"1\" class=\"dataframe\">\n",
       "  <thead>\n",
       "    <tr style=\"text-align: right;\">\n",
       "      <th></th>\n",
       "      <th>coffees</th>\n",
       "      <th>contributor</th>\n",
       "      <th>weekdays</th>\n",
       "    </tr>\n",
       "    <tr>\n",
       "      <th>timestamp</th>\n",
       "      <th></th>\n",
       "      <th></th>\n",
       "      <th></th>\n",
       "    </tr>\n",
       "  </thead>\n",
       "  <tbody>\n",
       "    <tr>\n",
       "      <th>2011-10-03 08:22:00</th>\n",
       "      <td>397</td>\n",
       "      <td>Quentin</td>\n",
       "      <td>Monday</td>\n",
       "    </tr>\n",
       "    <tr>\n",
       "      <th>2011-10-04 11:48:00</th>\n",
       "      <td>410</td>\n",
       "      <td>Quentin</td>\n",
       "      <td>Tuesday</td>\n",
       "    </tr>\n",
       "    <tr>\n",
       "      <th>2011-10-05 10:47:00</th>\n",
       "      <td>464</td>\n",
       "      <td>Quentin</td>\n",
       "      <td>Wednesday</td>\n",
       "    </tr>\n",
       "    <tr>\n",
       "      <th>2011-10-05 13:15:00</th>\n",
       "      <td>481</td>\n",
       "      <td>Quentin</td>\n",
       "      <td>Wednesday</td>\n",
       "    </tr>\n",
       "    <tr>\n",
       "      <th>2011-10-06 07:21:00</th>\n",
       "      <td>503</td>\n",
       "      <td>Anthony</td>\n",
       "      <td>Thursday</td>\n",
       "    </tr>\n",
       "  </tbody>\n",
       "</table>\n",
       "</div>"
      ],
      "text/plain": [
       "                     coffees contributor   weekdays\n",
       "timestamp                                          \n",
       "2011-10-03 08:22:00      397     Quentin     Monday\n",
       "2011-10-04 11:48:00      410     Quentin    Tuesday\n",
       "2011-10-05 10:47:00      464     Quentin  Wednesday\n",
       "2011-10-05 13:15:00      481     Quentin  Wednesday\n",
       "2011-10-06 07:21:00      503     Anthony   Thursday"
      ]
     },
     "execution_count": 43,
     "metadata": {},
     "output_type": "execute_result"
    }
   ],
   "source": [
    "# Set the dataframe's .index property\n",
    "data.index = data.timestamp\n",
    "\n",
    "# Let's drop the timestamp column, as we no longer need it\n",
    "data.drop([\"timestamp\"], axis=1, inplace=True)\n",
    "data.head()"
   ]
  },
  {
   "cell_type": "markdown",
   "metadata": {
    "slideshow": {
     "slide_type": "subslide"
    }
   },
   "source": [
    "#### Let's add some rows at midnight on every day."
   ]
  },
  {
   "cell_type": "code",
   "execution_count": 45,
   "metadata": {
    "collapsed": false,
    "scrolled": true
   },
   "outputs": [
    {
     "data": {
      "text/plain": [
       "DatetimeIndex(['2011-10-03', '2011-10-04', '2011-10-05', '2011-10-06',\n",
       "               '2011-10-07', '2011-10-08', '2011-10-09', '2011-10-10',\n",
       "               '2011-10-11', '2011-10-12',\n",
       "               ...\n",
       "               '2013-02-18', '2013-02-19', '2013-02-20', '2013-02-21',\n",
       "               '2013-02-22', '2013-02-23', '2013-02-24', '2013-02-25',\n",
       "               '2013-02-26', '2013-02-27'],\n",
       "              dtype='datetime64[ns]', length=514, freq='D')"
      ]
     },
     "execution_count": 45,
     "metadata": {},
     "output_type": "execute_result"
    }
   ],
   "source": [
    "# pd.date_range, with daily frequency, and normalisation\n",
    "midnights = pd.date_range(data.index[0], data.index[-1], normalize=True) # freq='D' is default\n",
    "\n",
    "midnights"
   ]
  },
  {
   "cell_type": "markdown",
   "metadata": {
    "slideshow": {
     "slide_type": "skip"
    }
   },
   "source": [
    "**Note :** `pd.date_range` creates a fixed-frequency DatetimeIndex. `normalize=True` ensures these datetimes are at midnight, and not at whatever time the starting point is.\n",
    "\n",
    "https://pandas.pydata.org/pandas-docs/stable/generated/pandas.date_range.html"
   ]
  },
  {
   "cell_type": "markdown",
   "metadata": {
    "slideshow": {
     "slide_type": "subslide"
    }
   },
   "source": [
    "#### Let's take the union of this index and our dataset's index."
   ]
  },
  {
   "cell_type": "code",
   "execution_count": 46,
   "metadata": {
    "collapsed": false
   },
   "outputs": [
    {
     "data": {
      "text/plain": [
       "DatetimeIndex(['2011-10-03 00:00:00', '2011-10-03 08:22:00',\n",
       "               '2011-10-04 00:00:00', '2011-10-04 11:48:00',\n",
       "               '2011-10-05 00:00:00', '2011-10-05 10:47:00',\n",
       "               '2011-10-05 13:15:00', '2011-10-06 00:00:00',\n",
       "               '2011-10-06 07:21:00', '2011-10-06 10:04:00',\n",
       "               ...\n",
       "               '2013-02-21 15:02:00', '2013-02-22 00:00:00',\n",
       "               '2013-02-23 00:00:00', '2013-02-24 00:00:00',\n",
       "               '2013-02-25 00:00:00', '2013-02-25 13:33:00',\n",
       "               '2013-02-25 17:25:00', '2013-02-26 00:00:00',\n",
       "               '2013-02-27 00:00:00', '2013-02-27 09:33:00'],\n",
       "              dtype='datetime64[ns]', length=1160, freq=None)"
      ]
     },
     "execution_count": 46,
     "metadata": {},
     "output_type": "execute_result"
    }
   ],
   "source": [
    "# Take the union of the existing and new indices\n",
    "new_index = midnights.union(data.index)\n",
    "\n",
    "new_index"
   ]
  },
  {
   "cell_type": "markdown",
   "metadata": {
    "slideshow": {
     "slide_type": "skip"
    }
   },
   "source": [
    "**Note :** the union of these indices is just a new index where entries from both indices are present. It's sorted by time."
   ]
  },
  {
   "cell_type": "markdown",
   "metadata": {
    "slideshow": {
     "slide_type": "subslide"
    }
   },
   "source": [
    "#### Now we can reindex our dataframe with this new index."
   ]
  },
  {
   "cell_type": "code",
   "execution_count": 47,
   "metadata": {
    "collapsed": false
   },
   "outputs": [
    {
     "data": {
      "text/html": [
       "<div>\n",
       "<table border=\"1\" class=\"dataframe\">\n",
       "  <thead>\n",
       "    <tr style=\"text-align: right;\">\n",
       "      <th></th>\n",
       "      <th>coffees</th>\n",
       "      <th>contributor</th>\n",
       "      <th>weekdays</th>\n",
       "    </tr>\n",
       "  </thead>\n",
       "  <tbody>\n",
       "    <tr>\n",
       "      <th>2011-10-03 00:00:00</th>\n",
       "      <td>NaN</td>\n",
       "      <td>NaN</td>\n",
       "      <td>NaN</td>\n",
       "    </tr>\n",
       "    <tr>\n",
       "      <th>2011-10-03 08:22:00</th>\n",
       "      <td>397.0</td>\n",
       "      <td>Quentin</td>\n",
       "      <td>Monday</td>\n",
       "    </tr>\n",
       "    <tr>\n",
       "      <th>2011-10-04 00:00:00</th>\n",
       "      <td>NaN</td>\n",
       "      <td>NaN</td>\n",
       "      <td>NaN</td>\n",
       "    </tr>\n",
       "    <tr>\n",
       "      <th>2011-10-04 11:48:00</th>\n",
       "      <td>410.0</td>\n",
       "      <td>Quentin</td>\n",
       "      <td>Tuesday</td>\n",
       "    </tr>\n",
       "    <tr>\n",
       "      <th>2011-10-05 00:00:00</th>\n",
       "      <td>NaN</td>\n",
       "      <td>NaN</td>\n",
       "      <td>NaN</td>\n",
       "    </tr>\n",
       "    <tr>\n",
       "      <th>2011-10-05 10:47:00</th>\n",
       "      <td>464.0</td>\n",
       "      <td>Quentin</td>\n",
       "      <td>Wednesday</td>\n",
       "    </tr>\n",
       "    <tr>\n",
       "      <th>2011-10-05 13:15:00</th>\n",
       "      <td>481.0</td>\n",
       "      <td>Quentin</td>\n",
       "      <td>Wednesday</td>\n",
       "    </tr>\n",
       "    <tr>\n",
       "      <th>2011-10-06 00:00:00</th>\n",
       "      <td>NaN</td>\n",
       "      <td>NaN</td>\n",
       "      <td>NaN</td>\n",
       "    </tr>\n",
       "    <tr>\n",
       "      <th>2011-10-06 07:21:00</th>\n",
       "      <td>503.0</td>\n",
       "      <td>Anthony</td>\n",
       "      <td>Thursday</td>\n",
       "    </tr>\n",
       "    <tr>\n",
       "      <th>2011-10-06 10:04:00</th>\n",
       "      <td>513.0</td>\n",
       "      <td>Quentin</td>\n",
       "      <td>Thursday</td>\n",
       "    </tr>\n",
       "  </tbody>\n",
       "</table>\n",
       "</div>"
      ],
      "text/plain": [
       "                     coffees contributor   weekdays\n",
       "2011-10-03 00:00:00      NaN         NaN        NaN\n",
       "2011-10-03 08:22:00    397.0     Quentin     Monday\n",
       "2011-10-04 00:00:00      NaN         NaN        NaN\n",
       "2011-10-04 11:48:00    410.0     Quentin    Tuesday\n",
       "2011-10-05 00:00:00      NaN         NaN        NaN\n",
       "2011-10-05 10:47:00    464.0     Quentin  Wednesday\n",
       "2011-10-05 13:15:00    481.0     Quentin  Wednesday\n",
       "2011-10-06 00:00:00      NaN         NaN        NaN\n",
       "2011-10-06 07:21:00    503.0     Anthony   Thursday\n",
       "2011-10-06 10:04:00    513.0     Quentin   Thursday"
      ]
     },
     "execution_count": 47,
     "metadata": {},
     "output_type": "execute_result"
    }
   ],
   "source": [
    "# .reindex() the dataframe\n",
    "upsampled_data = data.reindex(new_index)\n",
    "\n",
    "upsampled_data.head(10)"
   ]
  },
  {
   "cell_type": "markdown",
   "metadata": {
    "slideshow": {
     "slide_type": "skip"
    }
   },
   "source": [
    "**Note :** `.reindex()` keeps any values that conform to the new index, and inserts `NaN`s where we have no values.\n",
    "\n",
    "https://pandas.pydata.org/pandas-docs/stable/generated/pandas.DataFrame.reindex.html"
   ]
  },
  {
   "cell_type": "markdown",
   "metadata": {
    "slideshow": {
     "slide_type": "subslide"
    }
   },
   "source": [
    "#### We can fill in these `NaN`s using interpolation."
   ]
  },
  {
   "cell_type": "code",
   "execution_count": 48,
   "metadata": {
    "collapsed": false
   },
   "outputs": [
    {
     "data": {
      "text/html": [
       "<div>\n",
       "<table border=\"1\" class=\"dataframe\">\n",
       "  <thead>\n",
       "    <tr style=\"text-align: right;\">\n",
       "      <th></th>\n",
       "      <th>coffees</th>\n",
       "      <th>contributor</th>\n",
       "      <th>weekdays</th>\n",
       "    </tr>\n",
       "  </thead>\n",
       "  <tbody>\n",
       "    <tr>\n",
       "      <th>2011-10-03 00:00:00</th>\n",
       "      <td>NaN</td>\n",
       "      <td>NaN</td>\n",
       "      <td>NaN</td>\n",
       "    </tr>\n",
       "    <tr>\n",
       "      <th>2011-10-03 08:22:00</th>\n",
       "      <td>397.000000</td>\n",
       "      <td>Quentin</td>\n",
       "      <td>Monday</td>\n",
       "    </tr>\n",
       "    <tr>\n",
       "      <th>2011-10-04 00:00:00</th>\n",
       "      <td>404.408262</td>\n",
       "      <td>NaN</td>\n",
       "      <td>NaN</td>\n",
       "    </tr>\n",
       "    <tr>\n",
       "      <th>2011-10-04 11:48:00</th>\n",
       "      <td>410.000000</td>\n",
       "      <td>Quentin</td>\n",
       "      <td>Tuesday</td>\n",
       "    </tr>\n",
       "    <tr>\n",
       "      <th>2011-10-05 00:00:00</th>\n",
       "      <td>438.664249</td>\n",
       "      <td>NaN</td>\n",
       "      <td>NaN</td>\n",
       "    </tr>\n",
       "    <tr>\n",
       "      <th>2011-10-05 10:47:00</th>\n",
       "      <td>464.000000</td>\n",
       "      <td>Quentin</td>\n",
       "      <td>Wednesday</td>\n",
       "    </tr>\n",
       "    <tr>\n",
       "      <th>2011-10-05 13:15:00</th>\n",
       "      <td>481.000000</td>\n",
       "      <td>Quentin</td>\n",
       "      <td>Wednesday</td>\n",
       "    </tr>\n",
       "    <tr>\n",
       "      <th>2011-10-06 00:00:00</th>\n",
       "      <td>494.066298</td>\n",
       "      <td>NaN</td>\n",
       "      <td>NaN</td>\n",
       "    </tr>\n",
       "    <tr>\n",
       "      <th>2011-10-06 07:21:00</th>\n",
       "      <td>503.000000</td>\n",
       "      <td>Anthony</td>\n",
       "      <td>Thursday</td>\n",
       "    </tr>\n",
       "    <tr>\n",
       "      <th>2011-10-06 10:04:00</th>\n",
       "      <td>513.000000</td>\n",
       "      <td>Quentin</td>\n",
       "      <td>Thursday</td>\n",
       "    </tr>\n",
       "  </tbody>\n",
       "</table>\n",
       "</div>"
      ],
      "text/plain": [
       "                        coffees contributor   weekdays\n",
       "2011-10-03 00:00:00         NaN         NaN        NaN\n",
       "2011-10-03 08:22:00  397.000000     Quentin     Monday\n",
       "2011-10-04 00:00:00  404.408262         NaN        NaN\n",
       "2011-10-04 11:48:00  410.000000     Quentin    Tuesday\n",
       "2011-10-05 00:00:00  438.664249         NaN        NaN\n",
       "2011-10-05 10:47:00  464.000000     Quentin  Wednesday\n",
       "2011-10-05 13:15:00  481.000000     Quentin  Wednesday\n",
       "2011-10-06 00:00:00  494.066298         NaN        NaN\n",
       "2011-10-06 07:21:00  503.000000     Anthony   Thursday\n",
       "2011-10-06 10:04:00  513.000000     Quentin   Thursday"
      ]
     },
     "execution_count": 48,
     "metadata": {},
     "output_type": "execute_result"
    }
   ],
   "source": [
    "# .interpolate the upsampled_data using the time method\n",
    "upsampled_data = upsampled_data.interpolate(method=\"time\")\n",
    "\n",
    "upsampled_data.head(10)"
   ]
  },
  {
   "cell_type": "markdown",
   "metadata": {
    "slideshow": {
     "slide_type": "subslide"
    }
   },
   "source": [
    "#### We're now ready to resample the time-series at a daily frequency."
   ]
  },
  {
   "cell_type": "code",
   "execution_count": 57,
   "metadata": {
    "collapsed": false,
    "scrolled": true
   },
   "outputs": [
    {
     "data": {
      "text/html": [
       "<div>\n",
       "<table border=\"1\" class=\"dataframe\">\n",
       "  <thead>\n",
       "    <tr style=\"text-align: right;\">\n",
       "      <th></th>\n",
       "      <th>coffees</th>\n",
       "      <th>weekdays</th>\n",
       "    </tr>\n",
       "  </thead>\n",
       "  <tbody>\n",
       "    <tr>\n",
       "      <th>2011-10-03</th>\n",
       "      <td>NaN</td>\n",
       "      <td>Monday</td>\n",
       "    </tr>\n",
       "    <tr>\n",
       "      <th>2011-10-04</th>\n",
       "      <td>404.408262</td>\n",
       "      <td>Tuesday</td>\n",
       "    </tr>\n",
       "    <tr>\n",
       "      <th>2011-10-05</th>\n",
       "      <td>438.664249</td>\n",
       "      <td>Wednesday</td>\n",
       "    </tr>\n",
       "    <tr>\n",
       "      <th>2011-10-06</th>\n",
       "      <td>494.066298</td>\n",
       "      <td>Thursday</td>\n",
       "    </tr>\n",
       "    <tr>\n",
       "      <th>2011-10-07</th>\n",
       "      <td>572.844311</td>\n",
       "      <td>Friday</td>\n",
       "    </tr>\n",
       "  </tbody>\n",
       "</table>\n",
       "</div>"
      ],
      "text/plain": [
       "               coffees   weekdays\n",
       "2011-10-03         NaN     Monday\n",
       "2011-10-04  404.408262    Tuesday\n",
       "2011-10-05  438.664249  Wednesday\n",
       "2011-10-06  494.066298   Thursday\n",
       "2011-10-07  572.844311     Friday"
      ]
     },
     "execution_count": 57,
     "metadata": {},
     "output_type": "execute_result"
    }
   ],
   "source": [
    "# .resample() followed by .asfreq()\n",
    "daily_data = upsampled_data.resample('D').asfreq()\n",
    "\n",
    "# Drop the contributor column, we no longer need it\n",
    "daily_data = daily_data.drop(['contributor'], axis=1) # axis 1 for column not a row\n",
    "\n",
    "# Generate a column of weekday names\n",
    "daily_data[\"weekdays\"] = daily_data.index.weekday_name  # set weekday col and set it as value name\n",
    "daily_data.head()"
   ]
  },
  {
   "cell_type": "code",
   "execution_count": 58,
   "metadata": {
    "collapsed": false,
    "scrolled": true,
    "slideshow": {
     "slide_type": "subslide"
    }
   },
   "outputs": [
    {
     "data": {
      "text/plain": [
       "<matplotlib.axes._subplots.AxesSubplot at 0x1098aea58>"
      ]
     },
     "execution_count": 58,
     "metadata": {},
     "output_type": "execute_result"
    },
    {
     "data": {
      "image/png": "[encoded data removed]",
      "text/plain": [
       "<matplotlib.figure.Figure at 0x1098b2a20>"
      ]
     },
     "metadata": {},
     "output_type": "display_data"
    }
   ],
   "source": [
    "# Let's plot the data once more, to see how we're doing\n",
    "daily_data.plot()"
   ]
  },
  {
   "cell_type": "markdown",
   "metadata": {
    "slideshow": {
     "slide_type": "subslide"
    }
   },
   "source": [
    "#### Let's begin by figuring out how many coffees are made on any given day."
   ]
  },
  {
   "cell_type": "code",
   "execution_count": 62,
   "metadata": {
    "collapsed": false,
    "slideshow": {
     "slide_type": "skip"
    }
   },
   "outputs": [
    {
     "data": {
      "text/html": [
       "<div>\n",
       "<table border=\"1\" class=\"dataframe\">\n",
       "  <thead>\n",
       "    <tr style=\"text-align: right;\">\n",
       "      <th></th>\n",
       "      <th>coffees</th>\n",
       "      <th>weekdays</th>\n",
       "      <th>coffees_made_today</th>\n",
       "    </tr>\n",
       "  </thead>\n",
       "  <tbody>\n",
       "    <tr>\n",
       "      <th>2011-10-03</th>\n",
       "      <td>NaN</td>\n",
       "      <td>Monday</td>\n",
       "      <td>NaN</td>\n",
       "    </tr>\n",
       "    <tr>\n",
       "      <th>2011-10-04</th>\n",
       "      <td>404.408262</td>\n",
       "      <td>Tuesday</td>\n",
       "      <td>34.255987</td>\n",
       "    </tr>\n",
       "    <tr>\n",
       "      <th>2011-10-05</th>\n",
       "      <td>438.664249</td>\n",
       "      <td>Wednesday</td>\n",
       "      <td>55.402049</td>\n",
       "    </tr>\n",
       "    <tr>\n",
       "      <th>2011-10-06</th>\n",
       "      <td>494.066298</td>\n",
       "      <td>Thursday</td>\n",
       "      <td>78.778013</td>\n",
       "    </tr>\n",
       "    <tr>\n",
       "      <th>2011-10-07</th>\n",
       "      <td>572.844311</td>\n",
       "      <td>Friday</td>\n",
       "      <td>64.392941</td>\n",
       "    </tr>\n",
       "  </tbody>\n",
       "</table>\n",
       "</div>"
      ],
      "text/plain": [
       "               coffees   weekdays  coffees_made_today\n",
       "2011-10-03         NaN     Monday                 NaN\n",
       "2011-10-04  404.408262    Tuesday           34.255987\n",
       "2011-10-05  438.664249  Wednesday           55.402049\n",
       "2011-10-06  494.066298   Thursday           78.778013\n",
       "2011-10-07  572.844311     Friday           64.392941"
      ]
     },
     "execution_count": 62,
     "metadata": {},
     "output_type": "execute_result"
    }
   ],
   "source": [
    "# Use .diff() on the coffees column; follow up with .shift()\n",
    "coffees_made = daily_data.coffees.diff().shift(-1)\n",
    "\n",
    "# Add this as a column to the dataframe\n",
    "daily_data[\"coffees_made_today\"] = coffees_made\n",
    "\n",
    "daily_data.head()"
   ]
  },
  {
   "cell_type": "markdown",
   "metadata": {
    "slideshow": {
     "slide_type": "skip"
    }
   },
   "source": [
    "**Note :** we use `.shift()` here because if we look at the `.diff()` between a Monday and a Tuesday, those coffees are attributed to the Tuesday. However, what we want to say is \"this many coffees were made at some point on the Monday\", so we shift the entire series up one."
   ]
  },
  {
   "cell_type": "markdown",
   "metadata": {
    "slideshow": {
     "slide_type": "subslide"
    }
   },
   "source": [
    "#### Now we can group this by weekday."
   ]
  },
  {
   "cell_type": "code",
   "execution_count": 63,
   "metadata": {
    "collapsed": false
   },
   "outputs": [
    {
     "data": {
      "text/plain": [
       "weekdays\n",
       "Friday       34.138034\n",
       "Monday       37.802404\n",
       "Saturday     16.299858\n",
       "Sunday       15.768215\n",
       "Thursday     43.500824\n",
       "Tuesday      39.132964\n",
       "Wednesday    47.640057\n",
       "Name: coffees_made_today, dtype: float64"
      ]
     },
     "execution_count": 63,
     "metadata": {},
     "output_type": "execute_result"
    }
   ],
   "source": [
    "# .groupby weekdays, take the mean, and\n",
    "# grab the coffees_made_today column\n",
    "coffees_by_day = daily_data.groupby('weekdays').mean().coffees_made_today\n",
    "\n",
    "coffees_by_day"
   ]
  },
  {
   "cell_type": "markdown",
   "metadata": {
    "slideshow": {
     "slide_type": "subslide"
    }
   },
   "source": [
    "#### Let's order this series and then plot it."
   ]
  },
  {
   "cell_type": "code",
   "execution_count": 65,
   "metadata": {
    "collapsed": false
   },
   "outputs": [
    {
     "data": {
      "text/plain": [
       "<matplotlib.axes._subplots.AxesSubplot at 0x1091e1710>"
      ]
     },
     "execution_count": 65,
     "metadata": {},
     "output_type": "execute_result"
    },
    {
     "data": {
      "image/png": "[encoded data removed]",
      "text/plain": [
       "<matplotlib.figure.Figure at 0x109a080b8>"
      ]
     },
     "metadata": {},
     "output_type": "display_data"
    }
   ],
   "source": [
    "# Sort coffees_by_day by our list of weekend names\n",
    "coffees_by_day = coffees_by_day[weekday_names]\n",
    "\n",
    "# Plot a bar chart\n",
    "coffees_by_day.plot(kind='bar')"
   ]
  },
  {
   "cell_type": "markdown",
   "metadata": {
    "slideshow": {
     "slide_type": "fragment"
    }
   },
   "source": [
    "Wednesdays was seminar day..."
   ]
  },
  {
   "cell_type": "markdown",
   "metadata": {
    "slideshow": {
     "slide_type": "slide"
    }
   },
   "source": [
    "## 3. Coffee per person"
   ]
  },
  {
   "cell_type": "markdown",
   "metadata": {
    "slideshow": {
     "slide_type": "subslide"
    }
   },
   "source": [
    "#### We can now pull in data on how many people were in the department."
   ]
  },
  {
   "cell_type": "code",
   "execution_count": 69,
   "metadata": {
    "collapsed": false
   },
   "outputs": [
    {
     "data": {
      "text/html": [
       "<div>\n",
       "<table border=\"1\" class=\"dataframe\">\n",
       "  <thead>\n",
       "    <tr style=\"text-align: right;\">\n",
       "      <th></th>\n",
       "      <th>members</th>\n",
       "    </tr>\n",
       "    <tr>\n",
       "      <th>date</th>\n",
       "      <th></th>\n",
       "    </tr>\n",
       "  </thead>\n",
       "  <tbody>\n",
       "    <tr>\n",
       "      <th>2011-08-31</th>\n",
       "      <td>12</td>\n",
       "    </tr>\n",
       "    <tr>\n",
       "      <th>2011-09-30</th>\n",
       "      <td>14</td>\n",
       "    </tr>\n",
       "    <tr>\n",
       "      <th>2011-10-31</th>\n",
       "      <td>14</td>\n",
       "    </tr>\n",
       "    <tr>\n",
       "      <th>2011-11-30</th>\n",
       "      <td>14</td>\n",
       "    </tr>\n",
       "    <tr>\n",
       "      <th>2011-12-31</th>\n",
       "      <td>15</td>\n",
       "    </tr>\n",
       "  </tbody>\n",
       "</table>\n",
       "</div>"
      ],
      "text/plain": [
       "            members\n",
       "date               \n",
       "2011-08-31       12\n",
       "2011-09-30       14\n",
       "2011-10-31       14\n",
       "2011-11-30       14\n",
       "2011-12-31       15"
      ]
     },
     "execution_count": 69,
     "metadata": {},
     "output_type": "execute_result"
    }
   ],
   "source": [
    "# Bring in data/department_members.csv;\n",
    "# have the first column be the index, and parse the dates\n",
    "people = pd.read_csv(\"pydata_pandas/data/department_members.csv\", index_col=\"date\", parse_dates=True)\n",
    "\n",
    "people.head()"
   ]
  },
  {
   "cell_type": "markdown",
   "metadata": {
    "slideshow": {
     "slide_type": "subslide"
    }
   },
   "source": [
    "#### Let's join the datasets."
   ]
  },
  {
   "cell_type": "code",
   "execution_count": 71,
   "metadata": {
    "collapsed": false
   },
   "outputs": [
    {
     "data": {
      "text/html": [
       "<div>\n",
       "<table border=\"1\" class=\"dataframe\">\n",
       "  <thead>\n",
       "    <tr style=\"text-align: right;\">\n",
       "      <th></th>\n",
       "      <th>coffees</th>\n",
       "      <th>weekdays</th>\n",
       "      <th>coffees_made_today</th>\n",
       "      <th>members</th>\n",
       "    </tr>\n",
       "  </thead>\n",
       "  <tbody>\n",
       "    <tr>\n",
       "      <th>2011-08-31</th>\n",
       "      <td>NaN</td>\n",
       "      <td>NaN</td>\n",
       "      <td>NaN</td>\n",
       "      <td>12.0</td>\n",
       "    </tr>\n",
       "    <tr>\n",
       "      <th>2011-09-30</th>\n",
       "      <td>NaN</td>\n",
       "      <td>NaN</td>\n",
       "      <td>NaN</td>\n",
       "      <td>14.0</td>\n",
       "    </tr>\n",
       "    <tr>\n",
       "      <th>2011-10-03</th>\n",
       "      <td>NaN</td>\n",
       "      <td>Monday</td>\n",
       "      <td>NaN</td>\n",
       "      <td>NaN</td>\n",
       "    </tr>\n",
       "    <tr>\n",
       "      <th>2011-10-04</th>\n",
       "      <td>404.408262</td>\n",
       "      <td>Tuesday</td>\n",
       "      <td>34.255987</td>\n",
       "      <td>NaN</td>\n",
       "    </tr>\n",
       "    <tr>\n",
       "      <th>2011-10-05</th>\n",
       "      <td>438.664249</td>\n",
       "      <td>Wednesday</td>\n",
       "      <td>55.402049</td>\n",
       "      <td>NaN</td>\n",
       "    </tr>\n",
       "    <tr>\n",
       "      <th>2011-10-06</th>\n",
       "      <td>494.066298</td>\n",
       "      <td>Thursday</td>\n",
       "      <td>78.778013</td>\n",
       "      <td>NaN</td>\n",
       "    </tr>\n",
       "    <tr>\n",
       "      <th>2011-10-07</th>\n",
       "      <td>572.844311</td>\n",
       "      <td>Friday</td>\n",
       "      <td>64.392941</td>\n",
       "      <td>NaN</td>\n",
       "    </tr>\n",
       "    <tr>\n",
       "      <th>2011-10-08</th>\n",
       "      <td>637.237253</td>\n",
       "      <td>Saturday</td>\n",
       "      <td>7.492196</td>\n",
       "      <td>NaN</td>\n",
       "    </tr>\n",
       "    <tr>\n",
       "      <th>2011-10-09</th>\n",
       "      <td>644.729448</td>\n",
       "      <td>Sunday</td>\n",
       "      <td>8.195209</td>\n",
       "      <td>NaN</td>\n",
       "    </tr>\n",
       "    <tr>\n",
       "      <th>2011-10-10</th>\n",
       "      <td>652.924658</td>\n",
       "      <td>Monday</td>\n",
       "      <td>81.648549</td>\n",
       "      <td>NaN</td>\n",
       "    </tr>\n",
       "    <tr>\n",
       "      <th>2011-10-11</th>\n",
       "      <td>734.573206</td>\n",
       "      <td>Tuesday</td>\n",
       "      <td>46.351008</td>\n",
       "      <td>NaN</td>\n",
       "    </tr>\n",
       "    <tr>\n",
       "      <th>2011-10-12</th>\n",
       "      <td>780.924214</td>\n",
       "      <td>Wednesday</td>\n",
       "      <td>71.254295</td>\n",
       "      <td>NaN</td>\n",
       "    </tr>\n",
       "    <tr>\n",
       "      <th>2011-10-13</th>\n",
       "      <td>852.178510</td>\n",
       "      <td>Thursday</td>\n",
       "      <td>76.057819</td>\n",
       "      <td>NaN</td>\n",
       "    </tr>\n",
       "    <tr>\n",
       "      <th>2011-10-14</th>\n",
       "      <td>928.236328</td>\n",
       "      <td>Friday</td>\n",
       "      <td>51.198648</td>\n",
       "      <td>NaN</td>\n",
       "    </tr>\n",
       "    <tr>\n",
       "      <th>2011-10-15</th>\n",
       "      <td>979.434976</td>\n",
       "      <td>Saturday</td>\n",
       "      <td>13.197919</td>\n",
       "      <td>NaN</td>\n",
       "    </tr>\n",
       "    <tr>\n",
       "      <th>2011-10-16</th>\n",
       "      <td>992.632896</td>\n",
       "      <td>Sunday</td>\n",
       "      <td>13.197919</td>\n",
       "      <td>NaN</td>\n",
       "    </tr>\n",
       "    <tr>\n",
       "      <th>2011-10-17</th>\n",
       "      <td>1005.830815</td>\n",
       "      <td>Monday</td>\n",
       "      <td>51.896458</td>\n",
       "      <td>NaN</td>\n",
       "    </tr>\n",
       "    <tr>\n",
       "      <th>2011-10-18</th>\n",
       "      <td>1057.727273</td>\n",
       "      <td>Tuesday</td>\n",
       "      <td>58.000000</td>\n",
       "      <td>NaN</td>\n",
       "    </tr>\n",
       "    <tr>\n",
       "      <th>2011-10-19</th>\n",
       "      <td>1115.727273</td>\n",
       "      <td>Wednesday</td>\n",
       "      <td>99.078834</td>\n",
       "      <td>NaN</td>\n",
       "    </tr>\n",
       "    <tr>\n",
       "      <th>2011-10-20</th>\n",
       "      <td>1214.806107</td>\n",
       "      <td>Thursday</td>\n",
       "      <td>60.353715</td>\n",
       "      <td>NaN</td>\n",
       "    </tr>\n",
       "    <tr>\n",
       "      <th>2011-10-21</th>\n",
       "      <td>1275.159821</td>\n",
       "      <td>Friday</td>\n",
       "      <td>39.616790</td>\n",
       "      <td>NaN</td>\n",
       "    </tr>\n",
       "    <tr>\n",
       "      <th>2011-10-22</th>\n",
       "      <td>1314.776612</td>\n",
       "      <td>Saturday</td>\n",
       "      <td>12.953523</td>\n",
       "      <td>NaN</td>\n",
       "    </tr>\n",
       "    <tr>\n",
       "      <th>2011-10-23</th>\n",
       "      <td>1327.730135</td>\n",
       "      <td>Sunday</td>\n",
       "      <td>12.953523</td>\n",
       "      <td>NaN</td>\n",
       "    </tr>\n",
       "    <tr>\n",
       "      <th>2011-10-24</th>\n",
       "      <td>1340.683658</td>\n",
       "      <td>Monday</td>\n",
       "      <td>59.218453</td>\n",
       "      <td>NaN</td>\n",
       "    </tr>\n",
       "    <tr>\n",
       "      <th>2011-10-25</th>\n",
       "      <td>1399.902111</td>\n",
       "      <td>Tuesday</td>\n",
       "      <td>74.692688</td>\n",
       "      <td>NaN</td>\n",
       "    </tr>\n",
       "    <tr>\n",
       "      <th>2011-10-26</th>\n",
       "      <td>1474.594800</td>\n",
       "      <td>Wednesday</td>\n",
       "      <td>66.788911</td>\n",
       "      <td>NaN</td>\n",
       "    </tr>\n",
       "    <tr>\n",
       "      <th>2011-10-27</th>\n",
       "      <td>1541.383710</td>\n",
       "      <td>Thursday</td>\n",
       "      <td>65.455952</td>\n",
       "      <td>NaN</td>\n",
       "    </tr>\n",
       "    <tr>\n",
       "      <th>2011-10-28</th>\n",
       "      <td>1606.839662</td>\n",
       "      <td>Friday</td>\n",
       "      <td>43.095992</td>\n",
       "      <td>NaN</td>\n",
       "    </tr>\n",
       "    <tr>\n",
       "      <th>2011-10-29</th>\n",
       "      <td>1649.935654</td>\n",
       "      <td>Saturday</td>\n",
       "      <td>22.818727</td>\n",
       "      <td>NaN</td>\n",
       "    </tr>\n",
       "    <tr>\n",
       "      <th>2011-10-30</th>\n",
       "      <td>1672.754382</td>\n",
       "      <td>Sunday</td>\n",
       "      <td>22.818727</td>\n",
       "      <td>NaN</td>\n",
       "    </tr>\n",
       "    <tr>\n",
       "      <th>...</th>\n",
       "      <td>...</td>\n",
       "      <td>...</td>\n",
       "      <td>...</td>\n",
       "      <td>...</td>\n",
       "    </tr>\n",
       "    <tr>\n",
       "      <th>2013-01-30</th>\n",
       "      <td>16273.009369</td>\n",
       "      <td>Wednesday</td>\n",
       "      <td>43.171332</td>\n",
       "      <td>NaN</td>\n",
       "    </tr>\n",
       "    <tr>\n",
       "      <th>2013-01-31</th>\n",
       "      <td>16316.180700</td>\n",
       "      <td>Thursday</td>\n",
       "      <td>43.171332</td>\n",
       "      <td>12.0</td>\n",
       "    </tr>\n",
       "    <tr>\n",
       "      <th>2013-02-01</th>\n",
       "      <td>16359.352032</td>\n",
       "      <td>Friday</td>\n",
       "      <td>43.171332</td>\n",
       "      <td>NaN</td>\n",
       "    </tr>\n",
       "    <tr>\n",
       "      <th>2013-02-02</th>\n",
       "      <td>16402.523363</td>\n",
       "      <td>Saturday</td>\n",
       "      <td>43.171332</td>\n",
       "      <td>NaN</td>\n",
       "    </tr>\n",
       "    <tr>\n",
       "      <th>2013-02-03</th>\n",
       "      <td>16445.694695</td>\n",
       "      <td>Sunday</td>\n",
       "      <td>43.171332</td>\n",
       "      <td>NaN</td>\n",
       "    </tr>\n",
       "    <tr>\n",
       "      <th>2013-02-04</th>\n",
       "      <td>16488.866026</td>\n",
       "      <td>Monday</td>\n",
       "      <td>53.772720</td>\n",
       "      <td>NaN</td>\n",
       "    </tr>\n",
       "    <tr>\n",
       "      <th>2013-02-05</th>\n",
       "      <td>16542.638747</td>\n",
       "      <td>Tuesday</td>\n",
       "      <td>67.212276</td>\n",
       "      <td>NaN</td>\n",
       "    </tr>\n",
       "    <tr>\n",
       "      <th>2013-02-06</th>\n",
       "      <td>16609.851023</td>\n",
       "      <td>Wednesday</td>\n",
       "      <td>66.930932</td>\n",
       "      <td>NaN</td>\n",
       "    </tr>\n",
       "    <tr>\n",
       "      <th>2013-02-07</th>\n",
       "      <td>16676.781955</td>\n",
       "      <td>Thursday</td>\n",
       "      <td>53.364874</td>\n",
       "      <td>NaN</td>\n",
       "    </tr>\n",
       "    <tr>\n",
       "      <th>2013-02-08</th>\n",
       "      <td>16730.146829</td>\n",
       "      <td>Friday</td>\n",
       "      <td>36.907037</td>\n",
       "      <td>NaN</td>\n",
       "    </tr>\n",
       "    <tr>\n",
       "      <th>2013-02-09</th>\n",
       "      <td>16767.053866</td>\n",
       "      <td>Saturday</td>\n",
       "      <td>36.907037</td>\n",
       "      <td>NaN</td>\n",
       "    </tr>\n",
       "    <tr>\n",
       "      <th>2013-02-10</th>\n",
       "      <td>16803.960904</td>\n",
       "      <td>Sunday</td>\n",
       "      <td>36.907037</td>\n",
       "      <td>NaN</td>\n",
       "    </tr>\n",
       "    <tr>\n",
       "      <th>2013-02-11</th>\n",
       "      <td>16840.867941</td>\n",
       "      <td>Monday</td>\n",
       "      <td>36.907037</td>\n",
       "      <td>NaN</td>\n",
       "    </tr>\n",
       "    <tr>\n",
       "      <th>2013-02-12</th>\n",
       "      <td>16877.774978</td>\n",
       "      <td>Tuesday</td>\n",
       "      <td>63.136358</td>\n",
       "      <td>NaN</td>\n",
       "    </tr>\n",
       "    <tr>\n",
       "      <th>2013-02-13</th>\n",
       "      <td>16940.911336</td>\n",
       "      <td>Wednesday</td>\n",
       "      <td>54.305009</td>\n",
       "      <td>NaN</td>\n",
       "    </tr>\n",
       "    <tr>\n",
       "      <th>2013-02-14</th>\n",
       "      <td>16995.216345</td>\n",
       "      <td>Thursday</td>\n",
       "      <td>43.573981</td>\n",
       "      <td>NaN</td>\n",
       "    </tr>\n",
       "    <tr>\n",
       "      <th>2013-02-15</th>\n",
       "      <td>17038.790326</td>\n",
       "      <td>Friday</td>\n",
       "      <td>43.573981</td>\n",
       "      <td>NaN</td>\n",
       "    </tr>\n",
       "    <tr>\n",
       "      <th>2013-02-16</th>\n",
       "      <td>17082.364308</td>\n",
       "      <td>Saturday</td>\n",
       "      <td>36.421717</td>\n",
       "      <td>NaN</td>\n",
       "    </tr>\n",
       "    <tr>\n",
       "      <th>2013-02-17</th>\n",
       "      <td>17118.786025</td>\n",
       "      <td>Sunday</td>\n",
       "      <td>29.368104</td>\n",
       "      <td>NaN</td>\n",
       "    </tr>\n",
       "    <tr>\n",
       "      <th>2013-02-18</th>\n",
       "      <td>17148.154129</td>\n",
       "      <td>Monday</td>\n",
       "      <td>42.441054</td>\n",
       "      <td>NaN</td>\n",
       "    </tr>\n",
       "    <tr>\n",
       "      <th>2013-02-19</th>\n",
       "      <td>17190.595183</td>\n",
       "      <td>Tuesday</td>\n",
       "      <td>60.027791</td>\n",
       "      <td>NaN</td>\n",
       "    </tr>\n",
       "    <tr>\n",
       "      <th>2013-02-20</th>\n",
       "      <td>17250.622974</td>\n",
       "      <td>Wednesday</td>\n",
       "      <td>60.027791</td>\n",
       "      <td>NaN</td>\n",
       "    </tr>\n",
       "    <tr>\n",
       "      <th>2013-02-21</th>\n",
       "      <td>17310.650764</td>\n",
       "      <td>Thursday</td>\n",
       "      <td>54.164260</td>\n",
       "      <td>NaN</td>\n",
       "    </tr>\n",
       "    <tr>\n",
       "      <th>2013-02-22</th>\n",
       "      <td>17364.815024</td>\n",
       "      <td>Friday</td>\n",
       "      <td>28.947276</td>\n",
       "      <td>NaN</td>\n",
       "    </tr>\n",
       "    <tr>\n",
       "      <th>2013-02-23</th>\n",
       "      <td>17393.762299</td>\n",
       "      <td>Saturday</td>\n",
       "      <td>28.947276</td>\n",
       "      <td>NaN</td>\n",
       "    </tr>\n",
       "    <tr>\n",
       "      <th>2013-02-24</th>\n",
       "      <td>17422.709575</td>\n",
       "      <td>Sunday</td>\n",
       "      <td>28.947276</td>\n",
       "      <td>NaN</td>\n",
       "    </tr>\n",
       "    <tr>\n",
       "      <th>2013-02-25</th>\n",
       "      <td>17451.656851</td>\n",
       "      <td>Monday</td>\n",
       "      <td>49.645890</td>\n",
       "      <td>NaN</td>\n",
       "    </tr>\n",
       "    <tr>\n",
       "      <th>2013-02-26</th>\n",
       "      <td>17501.302741</td>\n",
       "      <td>Tuesday</td>\n",
       "      <td>44.850498</td>\n",
       "      <td>NaN</td>\n",
       "    </tr>\n",
       "    <tr>\n",
       "      <th>2013-02-27</th>\n",
       "      <td>17546.153239</td>\n",
       "      <td>Wednesday</td>\n",
       "      <td>NaN</td>\n",
       "      <td>NaN</td>\n",
       "    </tr>\n",
       "    <tr>\n",
       "      <th>2013-02-28</th>\n",
       "      <td>NaN</td>\n",
       "      <td>NaN</td>\n",
       "      <td>NaN</td>\n",
       "      <td>12.0</td>\n",
       "    </tr>\n",
       "  </tbody>\n",
       "</table>\n",
       "<p>517 rows × 4 columns</p>\n",
       "</div>"
      ],
      "text/plain": [
       "                 coffees   weekdays  coffees_made_today  members\n",
       "2011-08-31           NaN        NaN                 NaN     12.0\n",
       "2011-09-30           NaN        NaN                 NaN     14.0\n",
       "2011-10-03           NaN     Monday                 NaN      NaN\n",
       "2011-10-04    404.408262    Tuesday           34.255987      NaN\n",
       "2011-10-05    438.664249  Wednesday           55.402049      NaN\n",
       "2011-10-06    494.066298   Thursday           78.778013      NaN\n",
       "2011-10-07    572.844311     Friday           64.392941      NaN\n",
       "2011-10-08    637.237253   Saturday            7.492196      NaN\n",
       "2011-10-09    644.729448     Sunday            8.195209      NaN\n",
       "2011-10-10    652.924658     Monday           81.648549      NaN\n",
       "2011-10-11    734.573206    Tuesday           46.351008      NaN\n",
       "2011-10-12    780.924214  Wednesday           71.254295      NaN\n",
       "2011-10-13    852.178510   Thursday           76.057819      NaN\n",
       "2011-10-14    928.236328     Friday           51.198648      NaN\n",
       "2011-10-15    979.434976   Saturday           13.197919      NaN\n",
       "2011-10-16    992.632896     Sunday           13.197919      NaN\n",
       "2011-10-17   1005.830815     Monday           51.896458      NaN\n",
       "2011-10-18   1057.727273    Tuesday           58.000000      NaN\n",
       "2011-10-19   1115.727273  Wednesday           99.078834      NaN\n",
       "2011-10-20   1214.806107   Thursday           60.353715      NaN\n",
       "2011-10-21   1275.159821     Friday           39.616790      NaN\n",
       "2011-10-22   1314.776612   Saturday           12.953523      NaN\n",
       "2011-10-23   1327.730135     Sunday           12.953523      NaN\n",
       "2011-10-24   1340.683658     Monday           59.218453      NaN\n",
       "2011-10-25   1399.902111    Tuesday           74.692688      NaN\n",
       "2011-10-26   1474.594800  Wednesday           66.788911      NaN\n",
       "2011-10-27   1541.383710   Thursday           65.455952      NaN\n",
       "2011-10-28   1606.839662     Friday           43.095992      NaN\n",
       "2011-10-29   1649.935654   Saturday           22.818727      NaN\n",
       "2011-10-30   1672.754382     Sunday           22.818727      NaN\n",
       "...                  ...        ...                 ...      ...\n",
       "2013-01-30  16273.009369  Wednesday           43.171332      NaN\n",
       "2013-01-31  16316.180700   Thursday           43.171332     12.0\n",
       "2013-02-01  16359.352032     Friday           43.171332      NaN\n",
       "2013-02-02  16402.523363   Saturday           43.171332      NaN\n",
       "2013-02-03  16445.694695     Sunday           43.171332      NaN\n",
       "2013-02-04  16488.866026     Monday           53.772720      NaN\n",
       "2013-02-05  16542.638747    Tuesday           67.212276      NaN\n",
       "2013-02-06  16609.851023  Wednesday           66.930932      NaN\n",
       "2013-02-07  16676.781955   Thursday           53.364874      NaN\n",
       "2013-02-08  16730.146829     Friday           36.907037      NaN\n",
       "2013-02-09  16767.053866   Saturday           36.907037      NaN\n",
       "2013-02-10  16803.960904     Sunday           36.907037      NaN\n",
       "2013-02-11  16840.867941     Monday           36.907037      NaN\n",
       "2013-02-12  16877.774978    Tuesday           63.136358      NaN\n",
       "2013-02-13  16940.911336  Wednesday           54.305009      NaN\n",
       "2013-02-14  16995.216345   Thursday           43.573981      NaN\n",
       "2013-02-15  17038.790326     Friday           43.573981      NaN\n",
       "2013-02-16  17082.364308   Saturday           36.421717      NaN\n",
       "2013-02-17  17118.786025     Sunday           29.368104      NaN\n",
       "2013-02-18  17148.154129     Monday           42.441054      NaN\n",
       "2013-02-19  17190.595183    Tuesday           60.027791      NaN\n",
       "2013-02-20  17250.622974  Wednesday           60.027791      NaN\n",
       "2013-02-21  17310.650764   Thursday           54.164260      NaN\n",
       "2013-02-22  17364.815024     Friday           28.947276      NaN\n",
       "2013-02-23  17393.762299   Saturday           28.947276      NaN\n",
       "2013-02-24  17422.709575     Sunday           28.947276      NaN\n",
       "2013-02-25  17451.656851     Monday           49.645890      NaN\n",
       "2013-02-26  17501.302741    Tuesday           44.850498      NaN\n",
       "2013-02-27  17546.153239  Wednesday                 NaN      NaN\n",
       "2013-02-28           NaN        NaN                 NaN     12.0\n",
       "\n",
       "[517 rows x 4 columns]"
      ]
     },
     "execution_count": 71,
     "metadata": {},
     "output_type": "execute_result"
    }
   ],
   "source": [
    "# Use an outer join, then interpolate over \n",
    "# missing values using nearest values\n",
    "# daily_data = daily_data.join(people, how=\"outer\").interpolate(method=\"nearest\")\n",
    "daily_data\n",
    "# daily_data.head()"
   ]
  },
  {
   "cell_type": "markdown",
   "metadata": {
    "slideshow": {
     "slide_type": "skip"
    }
   },
   "source": [
    "**Note :** by default, inner joins are performed. That is, if a row from one of the datasets has an index that isn't in the other dataset, that row is dropped. You can specify whether you want outer, left, or right joins, as well plenty of other useful options. The `pandas` API for joining or merging datasets is very developed.\n",
    "\n",
    "https://pandas.pydata.org/pandas-docs/stable/merging.html"
   ]
  },
  {
   "cell_type": "markdown",
   "metadata": {
    "slideshow": {
     "slide_type": "subslide"
    }
   },
   "source": [
    "#### Let's create a column for the number of coffees consumed per person."
   ]
  },
  {
   "cell_type": "code",
   "execution_count": 77,
   "metadata": {
    "collapsed": false
   },
   "outputs": [
    {
     "data": {
      "text/html": [
       "<div>\n",
       "<table border=\"1\" class=\"dataframe\">\n",
       "  <thead>\n",
       "    <tr style=\"text-align: right;\">\n",
       "      <th></th>\n",
       "      <th>coffees</th>\n",
       "      <th>weekdays</th>\n",
       "      <th>coffees_made_today</th>\n",
       "      <th>members</th>\n",
       "      <th>coffees_per_person</th>\n",
       "    </tr>\n",
       "  </thead>\n",
       "  <tbody>\n",
       "    <tr>\n",
       "      <th>2011-10-31</th>\n",
       "      <td>1695.573109</td>\n",
       "      <td>Monday</td>\n",
       "      <td>46.847153</td>\n",
       "      <td>14.0</td>\n",
       "      <td>3.346225</td>\n",
       "    </tr>\n",
       "    <tr>\n",
       "      <th>2011-11-30</th>\n",
       "      <td>3047.117457</td>\n",
       "      <td>Wednesday</td>\n",
       "      <td>57.833762</td>\n",
       "      <td>14.0</td>\n",
       "      <td>4.130983</td>\n",
       "    </tr>\n",
       "    <tr>\n",
       "      <th>2011-12-31</th>\n",
       "      <td>3955.603192</td>\n",
       "      <td>Saturday</td>\n",
       "      <td>15.104138</td>\n",
       "      <td>15.0</td>\n",
       "      <td>1.006943</td>\n",
       "    </tr>\n",
       "    <tr>\n",
       "      <th>2012-01-31</th>\n",
       "      <td>5045.677309</td>\n",
       "      <td>Tuesday</td>\n",
       "      <td>42.690992</td>\n",
       "      <td>15.0</td>\n",
       "      <td>2.846066</td>\n",
       "    </tr>\n",
       "    <tr>\n",
       "      <th>2012-02-29</th>\n",
       "      <td>6497.323088</td>\n",
       "      <td>Wednesday</td>\n",
       "      <td>85.345415</td>\n",
       "      <td>15.0</td>\n",
       "      <td>5.689694</td>\n",
       "    </tr>\n",
       "    <tr>\n",
       "      <th>2012-03-31</th>\n",
       "      <td>7172.335211</td>\n",
       "      <td>Saturday</td>\n",
       "      <td>1.058175</td>\n",
       "      <td>15.0</td>\n",
       "      <td>0.070545</td>\n",
       "    </tr>\n",
       "    <tr>\n",
       "      <th>2012-04-30</th>\n",
       "      <td>7434.715411</td>\n",
       "      <td>Monday</td>\n",
       "      <td>52.699764</td>\n",
       "      <td>14.0</td>\n",
       "      <td>3.764269</td>\n",
       "    </tr>\n",
       "    <tr>\n",
       "      <th>2012-05-31</th>\n",
       "      <td>8646.303053</td>\n",
       "      <td>Thursday</td>\n",
       "      <td>69.768076</td>\n",
       "      <td>14.0</td>\n",
       "      <td>4.983434</td>\n",
       "    </tr>\n",
       "    <tr>\n",
       "      <th>2012-06-30</th>\n",
       "      <td>9502.318418</td>\n",
       "      <td>Saturday</td>\n",
       "      <td>11.035847</td>\n",
       "      <td>14.0</td>\n",
       "      <td>0.788275</td>\n",
       "    </tr>\n",
       "    <tr>\n",
       "      <th>2012-07-31</th>\n",
       "      <td>10139.788401</td>\n",
       "      <td>Tuesday</td>\n",
       "      <td>17.097373</td>\n",
       "      <td>13.0</td>\n",
       "      <td>1.315183</td>\n",
       "    </tr>\n",
       "  </tbody>\n",
       "</table>\n",
       "</div>"
      ],
      "text/plain": [
       "                 coffees   weekdays  coffees_made_today  members  \\\n",
       "2011-10-31   1695.573109     Monday           46.847153     14.0   \n",
       "2011-11-30   3047.117457  Wednesday           57.833762     14.0   \n",
       "2011-12-31   3955.603192   Saturday           15.104138     15.0   \n",
       "2012-01-31   5045.677309    Tuesday           42.690992     15.0   \n",
       "2012-02-29   6497.323088  Wednesday           85.345415     15.0   \n",
       "2012-03-31   7172.335211   Saturday            1.058175     15.0   \n",
       "2012-04-30   7434.715411     Monday           52.699764     14.0   \n",
       "2012-05-31   8646.303053   Thursday           69.768076     14.0   \n",
       "2012-06-30   9502.318418   Saturday           11.035847     14.0   \n",
       "2012-07-31  10139.788401    Tuesday           17.097373     13.0   \n",
       "\n",
       "            coffees_per_person  \n",
       "2011-10-31            3.346225  \n",
       "2011-11-30            4.130983  \n",
       "2011-12-31            1.006943  \n",
       "2012-01-31            2.846066  \n",
       "2012-02-29            5.689694  \n",
       "2012-03-31            0.070545  \n",
       "2012-04-30            3.764269  \n",
       "2012-05-31            4.983434  \n",
       "2012-06-30            0.788275  \n",
       "2012-07-31            1.315183  "
      ]
     },
     "execution_count": 77,
     "metadata": {},
     "output_type": "execute_result"
    }
   ],
   "source": [
    "# New column is the ratio of coffees made on a\n",
    "# given day to number of members in the department\n",
    "daily_data[\"coffees_per_person\"] = daily_data.coffees_made_today / daily_data.members\n",
    "\n",
    "# Let's drop those remaining NaNs while we're at it\n",
    "daily_data.dropna(inplace=True)\n",
    "\n",
    "daily_data.head(n=10)"
   ]
  },
  {
   "cell_type": "markdown",
   "metadata": {
    "slideshow": {
     "slide_type": "subslide"
    }
   },
   "source": [
    "#### We can now plot this column."
   ]
  },
  {
   "cell_type": "code",
   "execution_count": 78,
   "metadata": {
    "collapsed": false
   },
   "outputs": [
    {
     "data": {
      "text/plain": [
       "<matplotlib.axes._subplots.AxesSubplot at 0x109f74710>"
      ]
     },
     "execution_count": 78,
     "metadata": {},
     "output_type": "execute_result"
    },
    {
     "data": {
      "image/png": "[encoded data removed]",
      "text/plain": [
       "<matplotlib.figure.Figure at 0x10a028f60>"
      ]
     },
     "metadata": {},
     "output_type": "display_data"
    }
   ],
   "source": [
    "# Plot the coffees_per_person column\n",
    "daily_data.coffees_per_person.plot()"
   ]
  },
  {
   "cell_type": "markdown",
   "metadata": {
    "slideshow": {
     "slide_type": "subslide"
    }
   },
   "source": [
    "#### Those are strange plateaus. We'll pull in another dataset, telling us when the machine was broken."
   ]
  },
  {
   "cell_type": "code",
   "execution_count": 80,
   "metadata": {
    "collapsed": false
   },
   "outputs": [
    {
     "data": {
      "text/html": [
       "<div>\n",
       "<table border=\"1\" class=\"dataframe\">\n",
       "  <thead>\n",
       "    <tr style=\"text-align: right;\">\n",
       "      <th></th>\n",
       "      <th>status</th>\n",
       "    </tr>\n",
       "    <tr>\n",
       "      <th>date</th>\n",
       "      <th></th>\n",
       "    </tr>\n",
       "  </thead>\n",
       "  <tbody>\n",
       "    <tr>\n",
       "      <th>2011-09-16</th>\n",
       "      <td>OK</td>\n",
       "    </tr>\n",
       "    <tr>\n",
       "      <th>2011-09-17</th>\n",
       "      <td>OK</td>\n",
       "    </tr>\n",
       "    <tr>\n",
       "      <th>2011-09-18</th>\n",
       "      <td>OK</td>\n",
       "    </tr>\n",
       "    <tr>\n",
       "      <th>2011-09-19</th>\n",
       "      <td>OK</td>\n",
       "    </tr>\n",
       "    <tr>\n",
       "      <th>2011-09-20</th>\n",
       "      <td>OK</td>\n",
       "    </tr>\n",
       "  </tbody>\n",
       "</table>\n",
       "</div>"
      ],
      "text/plain": [
       "           status\n",
       "date             \n",
       "2011-09-16     OK\n",
       "2011-09-17     OK\n",
       "2011-09-18     OK\n",
       "2011-09-19     OK\n",
       "2011-09-20     OK"
      ]
     },
     "execution_count": 80,
     "metadata": {},
     "output_type": "execute_result"
    }
   ],
   "source": [
    "# pd.read_csv(); try using data/coffee_status.csv\n",
    "# parse_dates as kwarg; also pass index_col\n",
    "machine_status = pd.read_csv(\"pydata_pandas/data/coffee_status.csv\", parse_dates=[\"date\"], index_col=\"date\")\n",
    "\n",
    "machine_status.head()"
   ]
  },
  {
   "cell_type": "markdown",
   "metadata": {
    "slideshow": {
     "slide_type": "skip"
    }
   },
   "source": [
    "**Note :** the `parse_dates` keyword argument takes several values. By passing in a list of strings, we're telling `pandas` to attempt to parse the dates in columns with those names.\n",
    "\n",
    "https://pandas.pydata.org/pandas-docs/stable/generated/pandas.read_csv.html"
   ]
  },
  {
   "cell_type": "markdown",
   "metadata": {
    "slideshow": {
     "slide_type": "subslide"
    }
   },
   "source": [
    "#### What values are in the `status` column ?"
   ]
  },
  {
   "cell_type": "code",
   "execution_count": 81,
   "metadata": {
    "collapsed": false
   },
   "outputs": [
    {
     "data": {
      "text/plain": [
       "OK        514\n",
       "BROKEN     88\n",
       "Name: status, dtype: int64"
      ]
     },
     "execution_count": 81,
     "metadata": {},
     "output_type": "execute_result"
    }
   ],
   "source": [
    "# .value_counts()\n",
    "machine_status.status.value_counts()"
   ]
  },
  {
   "cell_type": "markdown",
   "metadata": {
    "slideshow": {
     "slide_type": "subslide"
    }
   },
   "source": [
    "#### A quick trick to plot this as a time-series..."
   ]
  },
  {
   "cell_type": "code",
   "execution_count": 82,
   "metadata": {
    "collapsed": false
   },
   "outputs": [
    {
     "data": {
      "text/plain": [
       "<matplotlib.axes._subplots.AxesSubplot at 0x10a2a8c88>"
      ]
     },
     "execution_count": 82,
     "metadata": {},
     "output_type": "execute_result"
    },
    {
     "data": {
      "image/png": "[encoded data removed]",
      "text/plain": [
       "<matplotlib.figure.Figure at 0x10a05c9e8>"
      ]
     },
     "metadata": {},
     "output_type": "display_data"
    }
   ],
   "source": [
    "# Make a pd.Series from the status series where things are OK\n",
    "numerical_status = machine_status == 'OK'\n",
    "\n",
    "numerical_status.plot()"
   ]
  },
  {
   "cell_type": "markdown",
   "metadata": {
    "slideshow": {
     "slide_type": "skip"
    }
   },
   "source": [
    "**Note :** the first line here creates a boolean `pd.Series`, holding the value `True` when `machine_status.status` is `\"OK\"`, and `False` otherwise. Because it's a `pd.Series`, its index stays the same as that of `machine_status`, which was a `DatetimeIndex`. Then, we can plot the boolean series ( `True` appearing as `1`, and `False` appearing as `0` ), and just quickly scan to see that there are long areas where the coffee machine was operations, with short bouts ( thankfully ! ) of the machine being broken."
   ]
  },
  {
   "cell_type": "markdown",
   "metadata": {
    "slideshow": {
     "slide_type": "subslide"
    }
   },
   "source": [
    "#### Let's join the datasets on the date field !"
   ]
  },
  {
   "cell_type": "code",
   "execution_count": 83,
   "metadata": {
    "collapsed": false,
    "slideshow": {
     "slide_type": "-"
    }
   },
   "outputs": [
    {
     "data": {
      "text/html": [
       "<div>\n",
       "<table border=\"1\" class=\"dataframe\">\n",
       "  <thead>\n",
       "    <tr style=\"text-align: right;\">\n",
       "      <th></th>\n",
       "      <th>coffees</th>\n",
       "      <th>weekdays</th>\n",
       "      <th>coffees_made_today</th>\n",
       "      <th>members</th>\n",
       "      <th>coffees_per_person</th>\n",
       "      <th>status</th>\n",
       "    </tr>\n",
       "  </thead>\n",
       "  <tbody>\n",
       "    <tr>\n",
       "      <th>2011-10-31</th>\n",
       "      <td>1695.573109</td>\n",
       "      <td>Monday</td>\n",
       "      <td>46.847153</td>\n",
       "      <td>14.0</td>\n",
       "      <td>3.346225</td>\n",
       "      <td>OK</td>\n",
       "    </tr>\n",
       "    <tr>\n",
       "      <th>2011-11-30</th>\n",
       "      <td>3047.117457</td>\n",
       "      <td>Wednesday</td>\n",
       "      <td>57.833762</td>\n",
       "      <td>14.0</td>\n",
       "      <td>4.130983</td>\n",
       "      <td>OK</td>\n",
       "    </tr>\n",
       "    <tr>\n",
       "      <th>2011-12-31</th>\n",
       "      <td>3955.603192</td>\n",
       "      <td>Saturday</td>\n",
       "      <td>15.104138</td>\n",
       "      <td>15.0</td>\n",
       "      <td>1.006943</td>\n",
       "      <td>BROKEN</td>\n",
       "    </tr>\n",
       "    <tr>\n",
       "      <th>2012-01-31</th>\n",
       "      <td>5045.677309</td>\n",
       "      <td>Tuesday</td>\n",
       "      <td>42.690992</td>\n",
       "      <td>15.0</td>\n",
       "      <td>2.846066</td>\n",
       "      <td>OK</td>\n",
       "    </tr>\n",
       "    <tr>\n",
       "      <th>2012-02-29</th>\n",
       "      <td>6497.323088</td>\n",
       "      <td>Wednesday</td>\n",
       "      <td>85.345415</td>\n",
       "      <td>15.0</td>\n",
       "      <td>5.689694</td>\n",
       "      <td>OK</td>\n",
       "    </tr>\n",
       "  </tbody>\n",
       "</table>\n",
       "</div>"
      ],
      "text/plain": [
       "                coffees   weekdays  coffees_made_today  members  \\\n",
       "2011-10-31  1695.573109     Monday           46.847153     14.0   \n",
       "2011-11-30  3047.117457  Wednesday           57.833762     14.0   \n",
       "2011-12-31  3955.603192   Saturday           15.104138     15.0   \n",
       "2012-01-31  5045.677309    Tuesday           42.690992     15.0   \n",
       "2012-02-29  6497.323088  Wednesday           85.345415     15.0   \n",
       "\n",
       "            coffees_per_person  status  \n",
       "2011-10-31            3.346225      OK  \n",
       "2011-11-30            4.130983      OK  \n",
       "2011-12-31            1.006943  BROKEN  \n",
       "2012-01-31            2.846066      OK  \n",
       "2012-02-29            5.689694      OK  "
      ]
     },
     "execution_count": 83,
     "metadata": {},
     "output_type": "execute_result"
    }
   ],
   "source": [
    "# .join() daily_data with machine_status\n",
    "daily_data = daily_data.join(machine_status)\n",
    "\n",
    "daily_data.head()"
   ]
  },
  {
   "cell_type": "markdown",
   "metadata": {
    "slideshow": {
     "slide_type": "subslide"
    }
   },
   "source": [
    "#### We'll bring in this numerical representation of status column into our dataframe too."
   ]
  },
  {
   "cell_type": "code",
   "execution_count": 84,
   "metadata": {
    "collapsed": false
   },
   "outputs": [
    {
     "data": {
      "text/html": [
       "<div>\n",
       "<table border=\"1\" class=\"dataframe\">\n",
       "  <thead>\n",
       "    <tr style=\"text-align: right;\">\n",
       "      <th></th>\n",
       "      <th>coffees</th>\n",
       "      <th>weekdays</th>\n",
       "      <th>coffees_made_today</th>\n",
       "      <th>members</th>\n",
       "      <th>coffees_per_person</th>\n",
       "      <th>status</th>\n",
       "      <th>numerical_status</th>\n",
       "    </tr>\n",
       "  </thead>\n",
       "  <tbody>\n",
       "    <tr>\n",
       "      <th>2011-10-31</th>\n",
       "      <td>1695.573109</td>\n",
       "      <td>Monday</td>\n",
       "      <td>46.847153</td>\n",
       "      <td>14.0</td>\n",
       "      <td>3.346225</td>\n",
       "      <td>OK</td>\n",
       "      <td>1</td>\n",
       "    </tr>\n",
       "    <tr>\n",
       "      <th>2011-11-30</th>\n",
       "      <td>3047.117457</td>\n",
       "      <td>Wednesday</td>\n",
       "      <td>57.833762</td>\n",
       "      <td>14.0</td>\n",
       "      <td>4.130983</td>\n",
       "      <td>OK</td>\n",
       "      <td>1</td>\n",
       "    </tr>\n",
       "    <tr>\n",
       "      <th>2011-12-31</th>\n",
       "      <td>3955.603192</td>\n",
       "      <td>Saturday</td>\n",
       "      <td>15.104138</td>\n",
       "      <td>15.0</td>\n",
       "      <td>1.006943</td>\n",
       "      <td>BROKEN</td>\n",
       "      <td>0</td>\n",
       "    </tr>\n",
       "    <tr>\n",
       "      <th>2012-01-31</th>\n",
       "      <td>5045.677309</td>\n",
       "      <td>Tuesday</td>\n",
       "      <td>42.690992</td>\n",
       "      <td>15.0</td>\n",
       "      <td>2.846066</td>\n",
       "      <td>OK</td>\n",
       "      <td>1</td>\n",
       "    </tr>\n",
       "    <tr>\n",
       "      <th>2012-02-29</th>\n",
       "      <td>6497.323088</td>\n",
       "      <td>Wednesday</td>\n",
       "      <td>85.345415</td>\n",
       "      <td>15.0</td>\n",
       "      <td>5.689694</td>\n",
       "      <td>OK</td>\n",
       "      <td>1</td>\n",
       "    </tr>\n",
       "  </tbody>\n",
       "</table>\n",
       "</div>"
      ],
      "text/plain": [
       "                coffees   weekdays  coffees_made_today  members  \\\n",
       "2011-10-31  1695.573109     Monday           46.847153     14.0   \n",
       "2011-11-30  3047.117457  Wednesday           57.833762     14.0   \n",
       "2011-12-31  3955.603192   Saturday           15.104138     15.0   \n",
       "2012-01-31  5045.677309    Tuesday           42.690992     15.0   \n",
       "2012-02-29  6497.323088  Wednesday           85.345415     15.0   \n",
       "\n",
       "            coffees_per_person  status  numerical_status  \n",
       "2011-10-31            3.346225      OK                 1  \n",
       "2011-11-30            4.130983      OK                 1  \n",
       "2011-12-31            1.006943  BROKEN                 0  \n",
       "2012-01-31            2.846066      OK                 1  \n",
       "2012-02-29            5.689694      OK                 1  "
      ]
     },
     "execution_count": 84,
     "metadata": {},
     "output_type": "execute_result"
    }
   ],
   "source": [
    "# Column depicting when the status was \"OK\"\n",
    "# Cast the series to ints before as you create a new column in the dataframe\n",
    "daily_data[\"numerical_status\"] = (daily_data.status == \"OK\").astype(int)\n",
    "\n",
    "daily_data.head()"
   ]
  },
  {
   "cell_type": "markdown",
   "metadata": {
    "slideshow": {
     "slide_type": "subslide"
    }
   },
   "source": [
    "#### Let's plot both the coffees per person and the numerical status."
   ]
  },
  {
   "cell_type": "code",
   "execution_count": 85,
   "metadata": {
    "collapsed": false
   },
   "outputs": [
    {
     "data": {
      "text/plain": [
       "<matplotlib.axes._subplots.AxesSubplot at 0x109b60208>"
      ]
     },
     "execution_count": 85,
     "metadata": {},
     "output_type": "execute_result"
    },
    {
     "data": {
      "image/png": "[encoded data removed]",
      "text/plain": [
       "<matplotlib.figure.Figure at 0x10a3b9a20>"
      ]
     },
     "metadata": {},
     "output_type": "display_data"
    }
   ],
   "source": [
    "# Plot both columns on the same graph, using default args\n",
    "daily_data[[\"coffees_per_person\", \"numerical_status\"]].plot()"
   ]
  },
  {
   "cell_type": "markdown",
   "metadata": {
    "slideshow": {
     "slide_type": "subslide"
    }
   },
   "source": [
    "#### We see a strong weekday-weekend effect. Resampling weekly will fix that."
   ]
  },
  {
   "cell_type": "code",
   "execution_count": 90,
   "metadata": {
    "collapsed": false
   },
   "outputs": [
    {
     "data": {
      "text/plain": [
       "<matplotlib.axes._subplots.AxesSubplot at 0x10a50bfd0>"
      ]
     },
     "execution_count": 90,
     "metadata": {},
     "output_type": "execute_result"
    },
    {
     "data": {
      "image/png": "[encoded data removed]",
      "text/plain": [
       "<matplotlib.figure.Figure at 0x1094287b8>"
      ]
     },
     "metadata": {},
     "output_type": "display_data"
    }
   ],
   "source": [
    "# Resample weekly, taking the mean\n",
    "# of each day to get a weekly value\n",
    "weekly_data = daily_data.resample(\"W\").mean()\n",
    "\n",
    "# Plot the coffees per person and the machine's status\n",
    "weekly_data.dropna(inplace=True) # <- had to add this myself\n",
    "\n",
    "weekly_data[[\"coffees_per_person\", \"numerical_status\"]].plot()"
   ]
  },
  {
   "cell_type": "markdown",
   "metadata": {
    "slideshow": {
     "slide_type": "slide"
    }
   },
   "source": [
    "## What have we achieved ?"
   ]
  },
  {
   "cell_type": "markdown",
   "metadata": {
    "slideshow": {
     "slide_type": "subslide"
    }
   },
   "source": [
    "#### Cleaning\n",
    "\n",
    "- Cast columns to the correct dtypes\n",
    "- Dropped rows with no data\n",
    "- Truncated the time-series when things got sparse"
   ]
  },
  {
   "cell_type": "markdown",
   "metadata": {
    "slideshow": {
     "slide_type": "subslide"
    }
   },
   "source": [
    "#### Exploring the contributions\n",
    "\n",
    "- Discovered who contributed to the dataset and how much\n",
    "- Established how contributions varied by day of the week"
   ]
  },
  {
   "cell_type": "markdown",
   "metadata": {
    "slideshow": {
     "slide_type": "subslide"
    }
   },
   "source": [
    "#### Exploring the time-series\n",
    "\n",
    "- Resampled the uneven time-series to regular daily intervals\n",
    "- Interpolated over missing data using our time index\n",
    "- Discovered on what days of the week coffee was especially popular\n",
    "- Joined the dataset with others to enrich the information available\n",
    "- Derived new columns from existing ones\n",
    "- Smoothed the time-series by weekly downsampling"
   ]
  },
  {
   "cell_type": "markdown",
   "metadata": {
    "slideshow": {
     "slide_type": "subslide"
    }
   },
   "source": [
    "#### Insights\n",
    "\n",
    "- A small number of people contributed most of the data\n",
    "- Contributions were lacking at the weekends, and Mondays had the most contributions\n",
    "- Seminar Wednesdays is a strong driver of coffee consumption\n",
    "- Periods of low coffee drinking correlated strongly with periods where the machine was broken\n",
    "- A significant dip in consumption occurred in the summer months"
   ]
  }
 ],
 "metadata": {
  "celltoolbar": "Slideshow",
  "kernelspec": {
   "display_name": "Python 3",
   "language": "python",
   "name": "python3"
  },
  "language_info": {
   "codemirror_mode": {
    "name": "ipython",
    "version": 3
   },
   "file_extension": ".py",
   "mimetype": "text/x-python",
   "name": "python",
   "nbconvert_exporter": "python",
   "pygments_lexer": "ipython3",
   "version": "3.6.1"
  },
  "livereveal": {
   "height": 720,
   "scroll": 1,
   "start_slideshow_at": "selected",
   "theme": "serif",
   "transition": "slide",
   "width": 1280
  }
 },
 "nbformat": 4,
 "nbformat_minor": 2
}
